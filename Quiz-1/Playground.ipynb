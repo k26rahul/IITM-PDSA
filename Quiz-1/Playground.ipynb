{
 "cells": [
  {
   "cell_type": "code",
   "execution_count": 8,
   "metadata": {},
   "outputs": [],
   "source": [
    "class Node:\n",
    "  def __init__(self, value):\n",
    "    self.value = value\n",
    "    self.next = None\n",
    "    self.flag = False\n",
    "\n",
    "  def __str__(self):\n",
    "    return str(self.value)"
   ]
  },
  {
   "cell_type": "code",
   "execution_count": 28,
   "metadata": {},
   "outputs": [],
   "source": [
    "harikesh = Node(10)\n",
    "cmd = Node(20)\n",
    "rahul = Node(30)\n",
    "kishan = Node(40)\n",
    "\n",
    "harikesh.next = cmd\n",
    "cmd.next = rahul\n",
    "rahul.next = kishan\n",
    "# kishan.next = rahul"
   ]
  },
  {
   "cell_type": "code",
   "execution_count": 22,
   "metadata": {},
   "outputs": [
    {
     "data": {
      "text/plain": [
       "[10, 20, 30, 40]"
      ]
     },
     "execution_count": 22,
     "metadata": {},
     "output_type": "execute_result"
    }
   ],
   "source": [
    "lst = []\n",
    "\n",
    "pointer = harikesh\n",
    "while pointer != None and pointer.flag == False:\n",
    "  lst.append(pointer.value)\n",
    "  pointer.flag = True\n",
    "  pointer = pointer.next\n",
    "\n",
    "lst"
   ]
  },
  {
   "cell_type": "code",
   "execution_count": 29,
   "metadata": {},
   "outputs": [
    {
     "data": {
      "text/plain": [
       "False"
      ]
     },
     "execution_count": 29,
     "metadata": {},
     "output_type": "execute_result"
    }
   ],
   "source": [
    "def detect_loop(h):\n",
    "  while (h != None):\n",
    "    if (h.flag == True):\n",
    "      return True\n",
    "\n",
    "    h.flag = True\n",
    "    h = h.next\n",
    "\n",
    "  return False\n",
    "\n",
    "\n",
    "detect_loop(harikesh)"
   ]
  },
  {
   "cell_type": "code",
   "execution_count": 34,
   "metadata": {},
   "outputs": [
    {
     "name": "stdout",
     "output_type": "stream",
     "text": [
      "30\n",
      "[10, 20]\n",
      "20\n",
      "[10]\n"
     ]
    }
   ],
   "source": [
    "class Stack:\n",
    "  def __init__(self):\n",
    "    self.stack = []\n",
    "\n",
    "  def isEmpty(self):\n",
    "    return len(self.stack) == 0\n",
    "\n",
    "  def push(self, value):\n",
    "    self.stack.append(value)\n",
    "\n",
    "  def pop(self):\n",
    "    value = None\n",
    "    if not self.isEmpty():\n",
    "      value = self.stack[-1]\n",
    "      self.stack = self.stack[0:-1]\n",
    "\n",
    "    return value\n",
    "\n",
    "  def __str__(self):\n",
    "    return str(self.stack)\n",
    "\n",
    "\n",
    "s = Stack()\n",
    "\n",
    "s.push(10)\n",
    "s.push(20)\n",
    "s.push(30)\n",
    "\n",
    "print(s.pop())\n",
    "print(s)\n",
    "\n",
    "print(s.pop())\n",
    "print(s)"
   ]
  },
  {
   "cell_type": "code",
   "execution_count": 46,
   "metadata": {},
   "outputs": [
    {
     "data": {
      "text/plain": [
       "5"
      ]
     },
     "execution_count": 46,
     "metadata": {},
     "output_type": "execute_result"
    },
    {
     "name": "stdout",
     "output_type": "stream",
     "text": [
      "[1, 2, 3, 4]\n"
     ]
    },
    {
     "data": {
      "text/plain": [
       "4"
      ]
     },
     "execution_count": 46,
     "metadata": {},
     "output_type": "execute_result"
    },
    {
     "name": "stdout",
     "output_type": "stream",
     "text": [
      "[1, 2, 3]\n",
      "[1, 2, 3, 4, 5]\n"
     ]
    },
    {
     "data": {
      "text/plain": [
       "5"
      ]
     },
     "execution_count": 46,
     "metadata": {},
     "output_type": "execute_result"
    },
    {
     "name": "stdout",
     "output_type": "stream",
     "text": [
      "[1, 2, 3, 4]\n"
     ]
    },
    {
     "data": {
      "text/plain": [
       "4"
      ]
     },
     "execution_count": 46,
     "metadata": {},
     "output_type": "execute_result"
    },
    {
     "name": "stdout",
     "output_type": "stream",
     "text": [
      "[1, 2, 3]\n"
     ]
    }
   ],
   "source": [
    "cpus = Stack()\n",
    "\n",
    "cpus.push(1)\n",
    "cpus.push(2)\n",
    "cpus.push(3)\n",
    "cpus.push(4)\n",
    "cpus.push(5)\n",
    "# print(cpus)\n",
    "\n",
    "cpus.pop()\n",
    "print(cpus)\n",
    "\n",
    "cpus.pop()\n",
    "print(cpus)\n",
    "\n",
    "cpus.push(4)\n",
    "cpus.push(5)\n",
    "print(cpus)\n",
    "\n",
    "cpus.pop()\n",
    "print(cpus)\n",
    "\n",
    "cpus.pop()\n",
    "print(cpus)"
   ]
  },
  {
   "cell_type": "code",
   "execution_count": 47,
   "metadata": {},
   "outputs": [],
   "source": [
    "class Queue:\n",
    "  def __init__(self):\n",
    "    self.queue = []\n",
    "\n",
    "  def isEmpty(self):\n",
    "    return len(self.queue) == 0\n",
    "\n",
    "  def enqueue(self, value):\n",
    "    self.queue.append(value)\n",
    "\n",
    "  def dequeue(self):\n",
    "    value = None\n",
    "    if not self.isEmpty():\n",
    "      value = self.queue[0]\n",
    "      self.queue = self.queue[1:]\n",
    "\n",
    "    return value\n",
    "\n",
    "  def __str__(self):\n",
    "    return str(self.queue)"
   ]
  },
  {
   "cell_type": "code",
   "execution_count": 52,
   "metadata": {},
   "outputs": [
    {
     "name": "stdout",
     "output_type": "stream",
     "text": [
      "[1, 2, 3, 4, 5]\n"
     ]
    },
    {
     "data": {
      "text/plain": [
       "1"
      ]
     },
     "execution_count": 52,
     "metadata": {},
     "output_type": "execute_result"
    },
    {
     "name": "stdout",
     "output_type": "stream",
     "text": [
      "[2, 3, 4, 5]\n"
     ]
    },
    {
     "data": {
      "text/plain": [
       "2"
      ]
     },
     "execution_count": 52,
     "metadata": {},
     "output_type": "execute_result"
    },
    {
     "name": "stdout",
     "output_type": "stream",
     "text": [
      "[3, 4, 5]\n",
      "[3, 4, 5, 1, 2]\n"
     ]
    },
    {
     "data": {
      "text/plain": [
       "3"
      ]
     },
     "execution_count": 52,
     "metadata": {},
     "output_type": "execute_result"
    },
    {
     "name": "stdout",
     "output_type": "stream",
     "text": [
      "[4, 5, 1, 2]\n"
     ]
    },
    {
     "data": {
      "text/plain": [
       "4"
      ]
     },
     "execution_count": 52,
     "metadata": {},
     "output_type": "execute_result"
    },
    {
     "name": "stdout",
     "output_type": "stream",
     "text": [
      "[5, 1, 2]\n"
     ]
    }
   ],
   "source": [
    "cpus = Queue()\n",
    "\n",
    "cpus.enqueue(1)\n",
    "cpus.enqueue(2)\n",
    "cpus.enqueue(3)\n",
    "cpus.enqueue(4)\n",
    "cpus.enqueue(5)\n",
    "print(cpus)\n",
    "\n",
    "cpus.dequeue()\n",
    "print(cpus)\n",
    "\n",
    "cpus.dequeue()\n",
    "print(cpus)\n",
    "\n",
    "cpus.enqueue(1)\n",
    "cpus.enqueue(2)\n",
    "print(cpus)\n",
    "\n",
    "cpus.dequeue()\n",
    "print(cpus)\n",
    "\n",
    "cpus.dequeue()\n",
    "print(cpus)"
   ]
  },
  {
   "cell_type": "code",
   "execution_count": 53,
   "metadata": {},
   "outputs": [],
   "source": [
    "adjacency_list = {\n",
    "  'A': ['B'],\n",
    "  'B': ['D'],\n",
    "  'C': [''],\n",
    "}"
   ]
  },
  {
   "cell_type": "code",
   "execution_count": 54,
   "metadata": {},
   "outputs": [
    {
     "data": {
      "text/plain": [
       "'\\nA:\\nB: A\\nC:\\nE: A, B, C\\nD: A, B, C, E\\nF: A, B, C, D, E\\nG: A, B, C, D, F\\nH: A, B, C, D, E, F\\nI: A, B, C, D, E, F, G, H\\n'"
      ]
     },
     "execution_count": 54,
     "metadata": {},
     "output_type": "execute_result"
    },
    {
     "data": {
      "text/plain": [
       "'\\nA, C\\nB, E\\nD, F\\nG, H\\nI\\n'"
      ]
     },
     "execution_count": 54,
     "metadata": {},
     "output_type": "execute_result"
    }
   ],
   "source": [
    "\"\"\"\n",
    "A:\n",
    "B: A\n",
    "C:\n",
    "E: A, B, C\n",
    "D: A, B, C, E\n",
    "F: A, B, C, D, E\n",
    "G: A, B, C, D, F\n",
    "H: A, B, C, D, E, F\n",
    "I: A, B, C, D, E, F, G, H\n",
    "\"\"\"\n",
    "\n",
    "\"\"\"\n",
    "A, C\n",
    "B, E\n",
    "D, F\n",
    "G, H\n",
    "I\n",
    "\"\"\""
   ]
  },
  {
   "cell_type": "code",
   "execution_count": 56,
   "metadata": {},
   "outputs": [
    {
     "data": {
      "text/plain": [
       "'\\n6,6,6,3,2,2,1\\n5,5,2,1,1,0\\n5,2,1,1,0\\n'"
      ]
     },
     "execution_count": 56,
     "metadata": {},
     "output_type": "execute_result"
    }
   ],
   "source": [
    "\"\"\"\n",
    "6,6,6,3,2,2,1\n",
    "5,5,2,1,1,0\n",
    "5,2,1,1,0\n",
    "\"\"\""
   ]
  },
  {
   "cell_type": "code",
   "execution_count": 55,
   "metadata": {},
   "outputs": [
    {
     "data": {
      "text/plain": [
       "'\\n5,3,3,3,3,2,1\\n2,2,2,2,1,1\\n1,1,2,1,1 => 2,1,1,1,1\\n0,0,1,1 => 1,1,0,0\\n0,0,0\\n'"
      ]
     },
     "execution_count": 55,
     "metadata": {},
     "output_type": "execute_result"
    }
   ],
   "source": [
    "\"\"\"\n",
    "5,3,3,3,3,2,1\n",
    "2,2,2,2,1,1\n",
    "1,1,2,1,1 => 2,1,1,1,1\n",
    "0,0,1,1 => 1,1,0,0\n",
    "0,0,0\n",
    "\"\"\""
   ]
  }
 ],
 "metadata": {
  "kernelspec": {
   "display_name": "Python 3",
   "language": "python",
   "name": "python3"
  },
  "language_info": {
   "codemirror_mode": {
    "name": "ipython",
    "version": 3
   },
   "file_extension": ".py",
   "mimetype": "text/x-python",
   "name": "python",
   "nbconvert_exporter": "python",
   "pygments_lexer": "ipython3",
   "version": "3.12.0"
  }
 },
 "nbformat": 4,
 "nbformat_minor": 2
}
