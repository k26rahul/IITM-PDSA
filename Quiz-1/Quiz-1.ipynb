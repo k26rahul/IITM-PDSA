{
 "cells": [
  {
   "cell_type": "code",
   "execution_count": 1,
   "metadata": {},
   "outputs": [],
   "source": [
    "class Node:\n",
    "  def __init__(self, value):\n",
    "    self.value = value\n",
    "    self.next = None\n",
    "    self.flag = False\n",
    "\n",
    "  def __str__(self):\n",
    "    return str(self.value)"
   ]
  },
  {
   "cell_type": "code",
   "execution_count": 2,
   "metadata": {},
   "outputs": [],
   "source": [
    "harikesh = Node(10)\n",
    "cmd = Node(20)\n",
    "rahul = Node(30)\n",
    "kishan = Node(40)\n",
    "\n",
    "harikesh.next = cmd\n",
    "cmd.next = rahul\n",
    "rahul.next = kishan\n",
    "kishan.next = harikesh"
   ]
  },
  {
   "cell_type": "code",
   "execution_count": 3,
   "metadata": {},
   "outputs": [
    {
     "name": "stdout",
     "output_type": "stream",
     "text": [
      "[10, 20, 30, 40]\n"
     ]
    }
   ],
   "source": [
    "lst = []\n",
    "\n",
    "pointer = harikesh\n",
    "while pointer != None and pointer.flag == False:\n",
    "  lst.append(pointer.value)\n",
    "  pointer.flag = True\n",
    "  pointer = pointer.next\n",
    "\n",
    "print(lst)"
   ]
  },
  {
   "cell_type": "code",
   "execution_count": 4,
   "metadata": {},
   "outputs": [
    {
     "data": {
      "text/plain": [
       "[]"
      ]
     },
     "execution_count": 4,
     "metadata": {},
     "output_type": "execute_result"
    }
   ],
   "source": [
    "lst = []\n",
    "\n",
    "pointer = harikesh\n",
    "while pointer != None and pointer.flag == False:\n",
    "  lst.append(pointer.value)\n",
    "  pointer.flag = True\n",
    "  pointer = pointer.next\n",
    "\n",
    "lst"
   ]
  },
  {
   "cell_type": "code",
   "execution_count": 5,
   "metadata": {},
   "outputs": [
    {
     "data": {
      "text/plain": [
       "True"
      ]
     },
     "execution_count": 5,
     "metadata": {},
     "output_type": "execute_result"
    }
   ],
   "source": [
    "def detect_loop(pointer):\n",
    "  while (pointer != None):\n",
    "    if (pointer.flag == True):\n",
    "      return True\n",
    "\n",
    "    pointer.flag = True\n",
    "    pointer = pointer.next\n",
    "\n",
    "  return False\n",
    "\n",
    "\n",
    "detect_loop(pointer=harikesh)"
   ]
  },
  {
   "cell_type": "code",
   "execution_count": 6,
   "metadata": {},
   "outputs": [
    {
     "data": {
      "text/plain": [
       "'\\n[1,2,3,4,5]\\n\\n[1,2,3,4] 5\\n[1,2,3] 4,5\\n\\n[1,2,3,4] 5\\n[1,2,3,4,5]\\n\\n[1,2,3,4] 5\\n'"
      ]
     },
     "execution_count": 6,
     "metadata": {},
     "output_type": "execute_result"
    }
   ],
   "source": [
    "\"\"\"\n",
    "[1,2,3,4,5]\n",
    "\n",
    "[1,2,3,4] 5\n",
    "[1,2,3] 4,5\n",
    "\n",
    "[1,2,3,4] 5\n",
    "[1,2,3,4,5]\n",
    "\n",
    "[1,2,3,4] 5\n",
    "\"\"\""
   ]
  },
  {
   "cell_type": "code",
   "execution_count": 7,
   "metadata": {},
   "outputs": [
    {
     "data": {
      "text/plain": [
       "'\\n[1,2,3,4,5]\\n\\n1 [2,3,4,5]\\n1,2 [3,4,5]\\n\\n1 [3,4,5,2]\\n[3,4,5,2,1]\\n\\n3 [4,5,2,1]\\n'"
      ]
     },
     "execution_count": 7,
     "metadata": {},
     "output_type": "execute_result"
    }
   ],
   "source": [
    "\"\"\"\n",
    "[1,2,3,4,5]\n",
    "\n",
    "1 [2,3,4,5]\n",
    "1,2 [3,4,5]\n",
    "\n",
    "1 [3,4,5,2]\n",
    "[3,4,5,2,1]\n",
    "\n",
    "3 [4,5,2,1]\n",
    "\"\"\""
   ]
  },
  {
   "cell_type": "code",
   "execution_count": 8,
   "metadata": {},
   "outputs": [
    {
     "data": {
      "text/plain": [
       "'\\nA: \\nB: A\\nC: \\nE: C\\nD: A, B, C, E\\nF: A, B, C, E\\nH: A, B, C, D, E, F\\nG: A, B, C, D, E, F\\nI: ✔️\\n\\nA, C,\\nB, E,\\nD, F,\\nG, H\\nI\\n'"
      ]
     },
     "execution_count": 8,
     "metadata": {},
     "output_type": "execute_result"
    }
   ],
   "source": [
    "\"\"\"\n",
    "A: \n",
    "B: A\n",
    "C: \n",
    "E: C\n",
    "D: A, B, C, E\n",
    "F: A, B, C, E\n",
    "H: A, B, C, D, E, F\n",
    "G: A, B, C, D, E, F\n",
    "I: ✔️\n",
    "\n",
    "A, C,\n",
    "B, E,\n",
    "D, F,\n",
    "G, H\n",
    "I\n",
    "\"\"\""
   ]
  },
  {
   "cell_type": "code",
   "execution_count": 9,
   "metadata": {},
   "outputs": [
    {
     "data": {
      "text/plain": [
       "'\\n6 6 6 3 2 2 1\\n5 5 2 1 1 0\\n\\n5 5 2 1 1 0\\n4 1 0 0 -1\\n'"
      ]
     },
     "execution_count": 9,
     "metadata": {},
     "output_type": "execute_result"
    }
   ],
   "source": [
    "\"\"\"\n",
    "6 6 6 3 2 2 1\n",
    "5 5 2 1 1 0\n",
    "\n",
    "5 5 2 1 1 0\n",
    "4 1 0 0 -1\n",
    "\"\"\""
   ]
  },
  {
   "cell_type": "code",
   "execution_count": 10,
   "metadata": {},
   "outputs": [
    {
     "data": {
      "text/plain": [
       "'\\n[br, cont,]\\n\\n1 0\\n2 80\\n3 70\\n4 60\\n5 50\\n6 40\\n7 30\\n8 20\\n9 10\\n\\n80 -> 10\\n990 -> 10\\n\\na = 990\\nd = -10\\n\\n1 0\\n2 990\\n3 980\\n4 970\\n5 960\\n6 40\\n7 30\\n8 20\\n9 10\\n'"
      ]
     },
     "execution_count": 10,
     "metadata": {},
     "output_type": "execute_result"
    }
   ],
   "source": [
    "\"\"\"\n",
    "[br, cont,]\n",
    "\n",
    "1 0\n",
    "2 80\n",
    "3 70\n",
    "4 60\n",
    "5 50\n",
    "6 40\n",
    "7 30\n",
    "8 20\n",
    "9 10\n",
    "\n",
    "80 -> 10\n",
    "990 -> 10\n",
    "\n",
    "a = 990\n",
    "d = -10\n",
    "\n",
    "1 0\n",
    "2 990\n",
    "3 980\n",
    "4 970\n",
    "5 960\n",
    "6 40\n",
    "7 30\n",
    "8 20\n",
    "9 10\n",
    "\"\"\""
   ]
  },
  {
   "cell_type": "code",
   "execution_count": 11,
   "metadata": {},
   "outputs": [
    {
     "data": {
      "text/plain": [
       "'\\n1 20\\n2 <1>\\n3 10\\n\\noutput:\\n20\\n10\\n\\nv.setAdaa...\\nd = date\\nv.checkDetails.checkSlot()\\n'"
      ]
     },
     "execution_count": 11,
     "metadata": {},
     "output_type": "execute_result"
    }
   ],
   "source": [
    "\"\"\"\n",
    "1 20\n",
    "2 <1>\n",
    "3 10\n",
    "\n",
    "output:\n",
    "20\n",
    "10\n",
    "\n",
    "v.setAdaa...\n",
    "d = date\n",
    "v.checkDetails.checkSlot()\n",
    "\"\"\""
   ]
  },
  {
   "cell_type": "code",
   "execution_count": 12,
   "metadata": {},
   "outputs": [
    {
     "data": {
      "text/plain": [
       "True"
      ]
     },
     "execution_count": 12,
     "metadata": {},
     "output_type": "execute_result"
    }
   ],
   "source": [
    "def even(lst):\n",
    "  for i in range(len(lst)):\n",
    "    lst[i] = lst[i] * 2\n",
    "\n",
    "  return lst\n",
    "\n",
    "\n",
    "arr = [1, 2, 3, 4]\n",
    "\n",
    "even(arr) == arr"
   ]
  },
  {
   "cell_type": "code",
   "execution_count": 13,
   "metadata": {},
   "outputs": [
    {
     "data": {
      "text/plain": [
       "'\\ncomplex list:\\n  class complex list\\n  class iter extends iterable\\n  getIterator -> new iter\\n  complex nums [complex num, complex num, complex num...]\\n\\nnot given:\\n  interface iterable [has_next, get_next]\\n  class printable [print method]\\n'"
      ]
     },
     "execution_count": 13,
     "metadata": {},
     "output_type": "execute_result"
    }
   ],
   "source": [
    "\"\"\"\n",
    "complex list:\n",
    "  class complex list\n",
    "  class iter extends iterable\n",
    "  getIterator -> new iter\n",
    "  complex nums [complex num, complex num, complex num...]\n",
    "\n",
    "not given:\n",
    "  interface iterable [has_next, get_next]\n",
    "  class printable [print method]\n",
    "\"\"\""
   ]
  },
  {
   "cell_type": "code",
   "execution_count": 14,
   "metadata": {},
   "outputs": [
    {
     "data": {
      "text/plain": [
       "'\\nD - 2\\nB - 1\\nA - 3\\nC - 5\\nE - 4\\n\\n\\ncomplex\\n'"
      ]
     },
     "execution_count": 14,
     "metadata": {},
     "output_type": "execute_result"
    }
   ],
   "source": [
    "\"\"\"\n",
    "D - 2\n",
    "B - 1\n",
    "A - 3\n",
    "C - 5\n",
    "E - 4\n",
    "\n",
    "\n",
    "complex\n",
    "\"\"\""
   ]
  },
  {
   "cell_type": "code",
   "execution_count": 15,
   "metadata": {},
   "outputs": [
    {
     "data": {
      "text/plain": [
       "'\\n[atrr1, attr2, attr3, attr4]\\n[atrr1, attr2, attr3, attr4]\\n[atrr1, attr2, attr3, attr4]\\n[atrr1, attr2, attr3, attr4]\\n[atrr1, attr2, attr3, attr4]\\n[atrr1, attr2, attr3, attr4]\\n[atrr1, attr2, attr3, attr4]\\n[atrr1, attr2, attr3, attr4]\\n[atrr1, attr2, attr3, attr4]\\n[atrr1, attr2, attr3, attr4]\\n[atrr1, attr2, attr3, attr4]\\n[atrr1, attr2, attr3, attr4]\\n[atrr1, attr2, attr3, attr4]\\n[atrr1, attr2, attr3, attr4]\\n...\\n400\\n'"
      ]
     },
     "execution_count": 15,
     "metadata": {},
     "output_type": "execute_result"
    }
   ],
   "source": [
    "\"\"\"\n",
    "[atrr1, attr2, attr3, attr4]\n",
    "[atrr1, attr2, attr3, attr4]\n",
    "[atrr1, attr2, attr3, attr4]\n",
    "[atrr1, attr2, attr3, attr4]\n",
    "[atrr1, attr2, attr3, attr4]\n",
    "[atrr1, attr2, attr3, attr4]\n",
    "[atrr1, attr2, attr3, attr4]\n",
    "[atrr1, attr2, attr3, attr4]\n",
    "[atrr1, attr2, attr3, attr4]\n",
    "[atrr1, attr2, attr3, attr4]\n",
    "[atrr1, attr2, attr3, attr4]\n",
    "[atrr1, attr2, attr3, attr4]\n",
    "[atrr1, attr2, attr3, attr4]\n",
    "[atrr1, attr2, attr3, attr4]\n",
    "...\n",
    "400\n",
    "\"\"\""
   ]
  },
  {
   "cell_type": "code",
   "execution_count": 16,
   "metadata": {},
   "outputs": [
    {
     "data": {
      "text/plain": [
       "'\\n8, 10\\n1, 2, 11\\n3,\\n4\\n7, 9,\\n5, 6\\n'"
      ]
     },
     "execution_count": 16,
     "metadata": {},
     "output_type": "execute_result"
    }
   ],
   "source": [
    "\"\"\"\n",
    "8, 10\n",
    "1, 2, 11\n",
    "3,\n",
    "4\n",
    "7, 9,\n",
    "5, 6\n",
    "\"\"\""
   ]
  },
  {
   "cell_type": "code",
   "execution_count": 17,
   "metadata": {},
   "outputs": [
    {
     "data": {
      "text/plain": [
       "'\\n990 -> 10\\n\\na = 990\\nd = -10\\nl = 10\\n'"
      ]
     },
     "execution_count": 17,
     "metadata": {},
     "output_type": "execute_result"
    }
   ],
   "source": [
    "\"\"\"\n",
    "990 -> 10\n",
    "\n",
    "a = 990\n",
    "d = -10\n",
    "l = 10\n",
    "\"\"\""
   ]
  },
  {
   "cell_type": "code",
   "execution_count": 18,
   "metadata": {},
   "outputs": [
    {
     "data": {
      "text/plain": [
       "'\\n7 13 15 27 46 54 82\\n82 7 13 15 27 46 54 [s=1]\\n54 82 7 13 15 27 46 [s=2]\\n46 54 82 7 13 15 27 [s=3]\\n27 46 54 82 7 13 15 [s=4]\\n\\nL =  27 46 54 82 7 13 15\\nL[s] O(1)\\n'"
      ]
     },
     "execution_count": 18,
     "metadata": {},
     "output_type": "execute_result"
    }
   ],
   "source": [
    "\"\"\"\n",
    "7 13 15 27 46 54 82\n",
    "82 7 13 15 27 46 54 [s=1]\n",
    "54 82 7 13 15 27 46 [s=2]\n",
    "46 54 82 7 13 15 27 [s=3]\n",
    "27 46 54 82 7 13 15 [s=4]\n",
    "\n",
    "L =  27 46 54 82 7 13 15\n",
    "L[s] O(1)\n",
    "\"\"\""
   ]
  },
  {
   "cell_type": "code",
   "execution_count": 19,
   "metadata": {},
   "outputs": [
    {
     "data": {
      "text/plain": [
       "'\\n5 3 3 3 3 2 1\\n2 2 2 2 1 1\\n\\n2 2 2 2 1 1\\n1 1 2 1 1\\n\\n1 1 2 1 1\\n0 2 1 1\\n\\n0 2 1 1\\n2 1 1\\n\\n2 1 1\\n0 0\\n\\n0 0\\n'"
      ]
     },
     "execution_count": 19,
     "metadata": {},
     "output_type": "execute_result"
    }
   ],
   "source": [
    "\"\"\"\n",
    "5 3 3 3 3 2 1\n",
    "2 2 2 2 1 1\n",
    "\n",
    "2 2 2 2 1 1\n",
    "1 1 2 1 1\n",
    "\n",
    "1 1 2 1 1\n",
    "0 2 1 1\n",
    "\n",
    "0 2 1 1\n",
    "2 1 1\n",
    "\n",
    "2 1 1\n",
    "0 0\n",
    "\n",
    "0 0\n",
    "\"\"\""
   ]
  },
  {
   "cell_type": "code",
   "execution_count": 20,
   "metadata": {},
   "outputs": [
    {
     "name": "stdout",
     "output_type": "stream",
     "text": [
      "30\n",
      "[10, 20]\n",
      "20\n",
      "[10]\n"
     ]
    }
   ],
   "source": [
    "class Stack:\n",
    "  def __init__(self):\n",
    "    self.stack = []\n",
    "\n",
    "  def isEmpty(self):\n",
    "    return len(self.stack) == 0\n",
    "\n",
    "  def push(self, value):\n",
    "    self.stack.append(value)\n",
    "\n",
    "  def pop(self):\n",
    "    value = None\n",
    "    if not self.isEmpty():\n",
    "      value = self.stack[-1]\n",
    "      self.stack = self.stack[0:-1]\n",
    "\n",
    "    return value\n",
    "\n",
    "  def __str__(self):\n",
    "    return str(self.stack)\n",
    "\n",
    "\n",
    "s = Stack()\n",
    "\n",
    "s.push(10)\n",
    "s.push(20)\n",
    "s.push(30)\n",
    "\n",
    "print(s.pop())\n",
    "print(s)\n",
    "\n",
    "print(s.pop())\n",
    "print(s)"
   ]
  },
  {
   "cell_type": "code",
   "execution_count": 21,
   "metadata": {},
   "outputs": [
    {
     "name": "stdout",
     "output_type": "stream",
     "text": [
      "[1, 2, 3, 4, 5]\n"
     ]
    },
    {
     "data": {
      "text/plain": [
       "5"
      ]
     },
     "execution_count": 21,
     "metadata": {},
     "output_type": "execute_result"
    },
    {
     "data": {
      "text/plain": [
       "4"
      ]
     },
     "execution_count": 21,
     "metadata": {},
     "output_type": "execute_result"
    },
    {
     "name": "stdout",
     "output_type": "stream",
     "text": [
      "[1, 2, 3]\n",
      "[1, 2, 3, 4, 5]\n"
     ]
    },
    {
     "data": {
      "text/plain": [
       "5"
      ]
     },
     "execution_count": 21,
     "metadata": {},
     "output_type": "execute_result"
    },
    {
     "name": "stdout",
     "output_type": "stream",
     "text": [
      "[1, 2, 3, 4]\n"
     ]
    }
   ],
   "source": [
    "cpus = Stack()\n",
    "\n",
    "cpus.push(1)\n",
    "cpus.push(2)\n",
    "cpus.push(3)\n",
    "cpus.push(4)\n",
    "cpus.push(5)\n",
    "print(cpus)\n",
    "\n",
    "cpus.pop()\n",
    "cpus.pop()\n",
    "print(cpus)\n",
    "\n",
    "cpus.push(4)\n",
    "cpus.push(5)\n",
    "print(cpus)\n",
    "\n",
    "cpus.pop()\n",
    "print(cpus)"
   ]
  },
  {
   "cell_type": "code",
   "execution_count": 22,
   "metadata": {},
   "outputs": [
    {
     "data": {
      "text/plain": [
       "5"
      ]
     },
     "execution_count": 22,
     "metadata": {},
     "output_type": "execute_result"
    },
    {
     "name": "stdout",
     "output_type": "stream",
     "text": [
      "[1, 2, 3, 4]\n"
     ]
    },
    {
     "data": {
      "text/plain": [
       "4"
      ]
     },
     "execution_count": 22,
     "metadata": {},
     "output_type": "execute_result"
    },
    {
     "name": "stdout",
     "output_type": "stream",
     "text": [
      "[1, 2, 3]\n",
      "[1, 2, 3, 4, 5]\n"
     ]
    },
    {
     "data": {
      "text/plain": [
       "5"
      ]
     },
     "execution_count": 22,
     "metadata": {},
     "output_type": "execute_result"
    },
    {
     "name": "stdout",
     "output_type": "stream",
     "text": [
      "[1, 2, 3, 4]\n"
     ]
    },
    {
     "data": {
      "text/plain": [
       "4"
      ]
     },
     "execution_count": 22,
     "metadata": {},
     "output_type": "execute_result"
    },
    {
     "name": "stdout",
     "output_type": "stream",
     "text": [
      "[1, 2, 3]\n"
     ]
    }
   ],
   "source": [
    "cpus = Stack()\n",
    "\n",
    "cpus.push(1)\n",
    "cpus.push(2)\n",
    "cpus.push(3)\n",
    "cpus.push(4)\n",
    "cpus.push(5)\n",
    "# print(cpus)\n",
    "\n",
    "cpus.pop()\n",
    "print(cpus)\n",
    "\n",
    "cpus.pop()\n",
    "print(cpus)\n",
    "\n",
    "cpus.push(4)\n",
    "cpus.push(5)\n",
    "print(cpus)\n",
    "\n",
    "cpus.pop()\n",
    "print(cpus)\n",
    "\n",
    "cpus.pop()\n",
    "print(cpus)"
   ]
  },
  {
   "cell_type": "code",
   "execution_count": 23,
   "metadata": {},
   "outputs": [],
   "source": [
    "class Queue:\n",
    "  def __init__(self):\n",
    "    self.queue = []\n",
    "\n",
    "  def isEmpty(self):\n",
    "    return len(self.queue) == 0\n",
    "\n",
    "  def enqueue(self, value):\n",
    "    self.queue.append(value)\n",
    "\n",
    "  def dequeue(self):\n",
    "    value = None\n",
    "    if not self.isEmpty():\n",
    "      value = self.queue[0]\n",
    "      self.queue = self.queue[1:]\n",
    "\n",
    "    return value\n",
    "\n",
    "  def __str__(self):\n",
    "    return str(self.queue)"
   ]
  },
  {
   "cell_type": "code",
   "execution_count": 24,
   "metadata": {},
   "outputs": [
    {
     "name": "stdout",
     "output_type": "stream",
     "text": [
      "[1, 2, 3, 4, 5]\n"
     ]
    },
    {
     "data": {
      "text/plain": [
       "1"
      ]
     },
     "execution_count": 24,
     "metadata": {},
     "output_type": "execute_result"
    },
    {
     "name": "stdout",
     "output_type": "stream",
     "text": [
      "[2, 3, 4, 5]\n"
     ]
    },
    {
     "data": {
      "text/plain": [
       "2"
      ]
     },
     "execution_count": 24,
     "metadata": {},
     "output_type": "execute_result"
    },
    {
     "name": "stdout",
     "output_type": "stream",
     "text": [
      "[3, 4, 5]\n",
      "[3, 4, 5, 1, 2]\n"
     ]
    },
    {
     "data": {
      "text/plain": [
       "3"
      ]
     },
     "execution_count": 24,
     "metadata": {},
     "output_type": "execute_result"
    },
    {
     "name": "stdout",
     "output_type": "stream",
     "text": [
      "[4, 5, 1, 2]\n"
     ]
    }
   ],
   "source": [
    "cpus = Queue()\n",
    "\n",
    "cpus.enqueue(1)\n",
    "cpus.enqueue(2)\n",
    "cpus.enqueue(3)\n",
    "cpus.enqueue(4)\n",
    "cpus.enqueue(5)\n",
    "print(cpus)\n",
    "\n",
    "cpus.dequeue()\n",
    "print(cpus)\n",
    "\n",
    "cpus.dequeue()\n",
    "print(cpus)\n",
    "\n",
    "cpus.enqueue(1)\n",
    "cpus.enqueue(2)\n",
    "print(cpus)\n",
    "\n",
    "cpus.dequeue()\n",
    "print(cpus)"
   ]
  },
  {
   "cell_type": "code",
   "execution_count": 25,
   "metadata": {},
   "outputs": [
    {
     "name": "stdout",
     "output_type": "stream",
     "text": [
      "[1, 2, 3, 4, 5]\n"
     ]
    },
    {
     "data": {
      "text/plain": [
       "1"
      ]
     },
     "execution_count": 25,
     "metadata": {},
     "output_type": "execute_result"
    },
    {
     "name": "stdout",
     "output_type": "stream",
     "text": [
      "[2, 3, 4, 5]\n"
     ]
    },
    {
     "data": {
      "text/plain": [
       "2"
      ]
     },
     "execution_count": 25,
     "metadata": {},
     "output_type": "execute_result"
    },
    {
     "name": "stdout",
     "output_type": "stream",
     "text": [
      "[3, 4, 5]\n",
      "[3, 4, 5, 1, 2]\n"
     ]
    },
    {
     "data": {
      "text/plain": [
       "3"
      ]
     },
     "execution_count": 25,
     "metadata": {},
     "output_type": "execute_result"
    },
    {
     "name": "stdout",
     "output_type": "stream",
     "text": [
      "[4, 5, 1, 2]\n"
     ]
    },
    {
     "data": {
      "text/plain": [
       "4"
      ]
     },
     "execution_count": 25,
     "metadata": {},
     "output_type": "execute_result"
    },
    {
     "name": "stdout",
     "output_type": "stream",
     "text": [
      "[5, 1, 2]\n"
     ]
    }
   ],
   "source": [
    "cpus = Queue()\n",
    "\n",
    "cpus.enqueue(1)\n",
    "cpus.enqueue(2)\n",
    "cpus.enqueue(3)\n",
    "cpus.enqueue(4)\n",
    "cpus.enqueue(5)\n",
    "print(cpus)\n",
    "\n",
    "cpus.dequeue()\n",
    "print(cpus)\n",
    "\n",
    "cpus.dequeue()\n",
    "print(cpus)\n",
    "\n",
    "cpus.enqueue(1)\n",
    "cpus.enqueue(2)\n",
    "print(cpus)\n",
    "\n",
    "cpus.dequeue()\n",
    "print(cpus)\n",
    "\n",
    "cpus.dequeue()\n",
    "print(cpus)"
   ]
  },
  {
   "cell_type": "code",
   "execution_count": 26,
   "metadata": {},
   "outputs": [],
   "source": [
    "adjacency_list = {\n",
    "    'A': ['B'],\n",
    "    'B': ['D'],\n",
    "    'C': [''],\n",
    "}"
   ]
  },
  {
   "cell_type": "code",
   "execution_count": 27,
   "metadata": {},
   "outputs": [
    {
     "data": {
      "text/plain": [
       "'\\nA:\\nB: A\\nC:\\nE: A, B, C\\nD: A, B, C, E\\nF: A, B, C, D, E\\nG: A, B, C, D, F\\nH: A, B, C, D, E, F\\nI: A, B, C, D, E, F, G, H\\n'"
      ]
     },
     "execution_count": 27,
     "metadata": {},
     "output_type": "execute_result"
    },
    {
     "data": {
      "text/plain": [
       "'\\nA, C\\nB, E\\nD, F\\nG, H\\nI\\n'"
      ]
     },
     "execution_count": 27,
     "metadata": {},
     "output_type": "execute_result"
    }
   ],
   "source": [
    "\"\"\"\n",
    "A:\n",
    "B: A\n",
    "C:\n",
    "E: A, B, C\n",
    "D: A, B, C, E\n",
    "F: A, B, C, D, E\n",
    "G: A, B, C, D, F\n",
    "H: A, B, C, D, E, F\n",
    "I: A, B, C, D, E, F, G, H\n",
    "\"\"\"\n",
    "\n",
    "\"\"\"\n",
    "A, C\n",
    "B, E\n",
    "D, F\n",
    "G, H\n",
    "I\n",
    "\"\"\""
   ]
  },
  {
   "cell_type": "code",
   "execution_count": 28,
   "metadata": {},
   "outputs": [
    {
     "data": {
      "text/plain": [
       "'\\n6,6,6,3,2,2,1\\n5,5,2,1,1,0\\n5,2,1,1,0\\n'"
      ]
     },
     "execution_count": 28,
     "metadata": {},
     "output_type": "execute_result"
    }
   ],
   "source": [
    "\"\"\"\n",
    "6,6,6,3,2,2,1\n",
    "5,5,2,1,1,0\n",
    "5,2,1,1,0\n",
    "\"\"\""
   ]
  },
  {
   "cell_type": "code",
   "execution_count": 29,
   "metadata": {},
   "outputs": [
    {
     "data": {
      "text/plain": [
       "'\\n5,3,3,3,3,2,1\\n2,2,2,2,1,1\\n1,1,2,1,1 => 2,1,1,1,1\\n0,0,1,1 => 1,1,0,0\\n0,0,0\\n'"
      ]
     },
     "execution_count": 29,
     "metadata": {},
     "output_type": "execute_result"
    }
   ],
   "source": [
    "\"\"\"\n",
    "5,3,3,3,3,2,1\n",
    "2,2,2,2,1,1\n",
    "1,1,2,1,1 => 2,1,1,1,1\n",
    "0,0,1,1 => 1,1,0,0\n",
    "0,0,0\n",
    "\"\"\""
   ]
  }
 ],
 "metadata": {
  "kernelspec": {
   "display_name": "Python 3",
   "language": "python",
   "name": "python3"
  },
  "language_info": {
   "codemirror_mode": {
    "name": "ipython",
    "version": 3
   },
   "file_extension": ".py",
   "mimetype": "text/x-python",
   "name": "python",
   "nbconvert_exporter": "python",
   "pygments_lexer": "ipython3",
   "version": "3.12.0"
  }
 },
 "nbformat": 4,
 "nbformat_minor": 2
}
