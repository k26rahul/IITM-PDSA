{
 "cells": [
  {
   "cell_type": "code",
   "execution_count": 1,
   "metadata": {},
   "outputs": [
    {
     "data": {
      "text/plain": [
       "5"
      ]
     },
     "execution_count": 1,
     "metadata": {},
     "output_type": "execute_result"
    },
    {
     "data": {
      "text/plain": [
       "1"
      ]
     },
     "execution_count": 1,
     "metadata": {},
     "output_type": "execute_result"
    },
    {
     "data": {
      "text/plain": [
       "3"
      ]
     },
     "execution_count": 1,
     "metadata": {},
     "output_type": "execute_result"
    }
   ],
   "source": [
    "# def gcd(m, n):\n",
    "#   factors = []\n",
    "#   for i in range(1, min(m, n)+1):\n",
    "#     if m % i == 0 and n % i == 0:\n",
    "#       factors.append(i)\n",
    "\n",
    "#   return factors[-1]\n",
    "\n",
    "# def gcd(m, n):\n",
    "#   max_cf = 1\n",
    "#   for i in range(2, min(m, n)+1):\n",
    "#     if m % i == 0 and n % i == 0:\n",
    "#       max_cf = i\n",
    "\n",
    "#   return max_cf\n",
    "\n",
    "# def gcd(m, n):\n",
    "#   a, b = max(m, n), min(m, n)\n",
    "#   if a % b == 0:\n",
    "#     return b\n",
    "\n",
    "#   return gcd(b, a-b)\n",
    "\n",
    "def gcd(m, n):\n",
    "  a, b = max(m, n), min(m, n)\n",
    "  if a % b == 0:\n",
    "    return b\n",
    "\n",
    "  return gcd(b, a % b)\n",
    "\n",
    "\n",
    "gcd(15, 25)\n",
    "gcd(15, 26)\n",
    "gcd(15, 27)"
   ]
  },
  {
   "cell_type": "code",
   "execution_count": 2,
   "metadata": {},
   "outputs": [
    {
     "data": {
      "text/plain": [
       "[2, 3, 5, 7, 11, 13, 17, 19, 23, 29, 31, 37, 41, 43, 47]"
      ]
     },
     "execution_count": 2,
     "metadata": {},
     "output_type": "execute_result"
    }
   ],
   "source": [
    "def factors(n):\n",
    "  f = []\n",
    "  for i in range(1, n+1):\n",
    "    if n % i == 0:\n",
    "      f.append(i)\n",
    "\n",
    "  return f\n",
    "\n",
    "\n",
    "def prime(n):\n",
    "  return factors(n) == [1, n]\n",
    "\n",
    "\n",
    "# prime(2)\n",
    "# prime(7)\n",
    "# prime(9)\n",
    "\n",
    "def primesupto(n):\n",
    "  primes = []\n",
    "  for i in range(1, n+1):\n",
    "    if prime(i):\n",
    "      primes.append(i)\n",
    "\n",
    "  return primes\n",
    "\n",
    "\n",
    "primesupto(50)"
   ]
  },
  {
   "cell_type": "code",
   "execution_count": 3,
   "metadata": {},
   "outputs": [
    {
     "data": {
      "text/plain": [
       "[1, 2, 3, 5, 7, 11, 13, 17, 19, 23, 29, 31, 37, 41, 43, 47]"
      ]
     },
     "execution_count": 3,
     "metadata": {},
     "output_type": "execute_result"
    }
   ],
   "source": [
    "# def prime(n):\n",
    "#   for i in range(2, n):\n",
    "#     if n % i == 0:\n",
    "#       return False\n",
    "\n",
    "#   return True\n",
    "\n",
    "def prime(n):\n",
    "  import math\n",
    "  for i in range(2, int(math.sqrt(n)+1)):\n",
    "    if n % i == 0:\n",
    "      return False\n",
    "\n",
    "  return True\n",
    "\n",
    "\n",
    "# prime(2)\n",
    "# prime(7)\n",
    "# prime(9)\n",
    "\n",
    "primesupto(50)"
   ]
  },
  {
   "cell_type": "code",
   "execution_count": 4,
   "metadata": {},
   "outputs": [
    {
     "data": {
      "text/plain": [
       "{1: 1, 2: 35, 4: 40, 6: 44, 8: 15, 14: 7, 10: 16, 12: 7, 18: 1, 20: 1}"
      ]
     },
     "execution_count": 4,
     "metadata": {},
     "output_type": "execute_result"
    }
   ],
   "source": [
    "def prime_diffs(n):\n",
    "  last_prime = 2\n",
    "  pd = {}\n",
    "\n",
    "  for i in range(3, n+1):\n",
    "    if not prime(i):\n",
    "      continue\n",
    "\n",
    "    d = i - last_prime\n",
    "    last_prime = i\n",
    "    if d in pd.keys():\n",
    "      pd[d] = pd[d] + 1\n",
    "    else:\n",
    "      pd[d] = 1\n",
    "  return (pd)\n",
    "\n",
    "\n",
    "prime_diffs(10**3)"
   ]
  },
  {
   "cell_type": "code",
   "execution_count": 5,
   "metadata": {},
   "outputs": [
    {
     "name": "stdout",
     "output_type": "stream",
     "text": [
      "(3, 4)\n",
      "(8, 12)\n",
      "5.0\n",
      "(5, 12) 13.0\n"
     ]
    }
   ],
   "source": [
    "class Point:\n",
    "  def __init__(self, a=0, b=0):\n",
    "    self.x = a\n",
    "    self.y = b\n",
    "\n",
    "  def translate(self, deltax, deltay):\n",
    "    self.x += deltax\n",
    "    self.y += deltay\n",
    "\n",
    "  def odistance(self):\n",
    "    import math\n",
    "    return math.sqrt(self.x**2 + self.y**2)\n",
    "\n",
    "  def __str__(self):\n",
    "    return f'({self.x}, {self.y})'\n",
    "\n",
    "  def __add__(self, p):\n",
    "    return Point(self.x+p.x, self.y+p.y)\n",
    "\n",
    "\n",
    "p = Point(3, 4)\n",
    "q = Point(5, 8)\n",
    "print(p)\n",
    "print(p+q)\n",
    "print(p.odistance())\n",
    "\n",
    "p.translate(2, 8)\n",
    "print(p, p.odistance())"
   ]
  },
  {
   "cell_type": "code",
   "execution_count": 6,
   "metadata": {},
   "outputs": [
    {
     "data": {
      "text/plain": [
       "0"
      ]
     },
     "execution_count": 6,
     "metadata": {},
     "output_type": "execute_result"
    }
   ],
   "source": [
    "# def binary_search(arr, v):\n",
    "#   low = 0\n",
    "#   high = len(arr)-1\n",
    "\n",
    "#   while low <= high:\n",
    "#     mid = (low + high)//2\n",
    "#     if v == arr[mid]:\n",
    "#       return mid\n",
    "\n",
    "#     if v > arr[mid]:\n",
    "#       low = mid+1\n",
    "#     else:\n",
    "#       high = mid-1\n",
    "\n",
    "#   return -1\n",
    "\n",
    "def binary_search(arr, v, low=None, high=None):\n",
    "  if low == None:\n",
    "    low = 0\n",
    "    high = len(arr)-1\n",
    "\n",
    "  if low > high:\n",
    "    return -1\n",
    "\n",
    "  mid = (low + high)//2\n",
    "  if v == arr[mid]:\n",
    "    return mid\n",
    "\n",
    "  if v > arr[mid]:\n",
    "    low = mid+1\n",
    "    return binary_search(arr, v, low, high)\n",
    "  else:\n",
    "    high = mid-1\n",
    "    return binary_search(arr, v, low, high)\n",
    "\n",
    "\n",
    "binary_search([6, 7, 9, 12, 45, 50], 6)\n",
    "# binary_search([6, 7, 9, 12, 45, 50], 7)\n",
    "# binary_search([6, 7, 9, 12, 45, 50], 12)\n",
    "# binary_search([6, 7, 9, 12, 45, 50], 50)\n",
    "# binary_search([6, 7, 9, 12, 45, 50], 52)"
   ]
  },
  {
   "cell_type": "markdown",
   "metadata": {},
   "source": [
    "# Sorting"
   ]
  },
  {
   "cell_type": "code",
   "execution_count": 7,
   "metadata": {},
   "outputs": [
    {
     "data": {
      "text/plain": [
       "[1, 4, 5, 7, 12]"
      ]
     },
     "execution_count": 7,
     "metadata": {},
     "output_type": "execute_result"
    },
    {
     "data": {
      "text/plain": [
       "[4, 5]"
      ]
     },
     "execution_count": 7,
     "metadata": {},
     "output_type": "execute_result"
    },
    {
     "data": {
      "text/plain": [
       "[]"
      ]
     },
     "execution_count": 7,
     "metadata": {},
     "output_type": "execute_result"
    }
   ],
   "source": [
    "def swap(arr, i, j):\n",
    "  arr[i], arr[j] = arr[j], arr[i]\n",
    "\n",
    "\n",
    "def bubble_sort(arr):\n",
    "  n = len(arr)\n",
    "\n",
    "  for i in range(n):\n",
    "    for j in range(0, n-i-1):\n",
    "      if arr[j] > arr[j+1]:\n",
    "        swap(arr, j, j+1)\n",
    "\n",
    "  return arr\n",
    "\n",
    "\n",
    "bubble_sort([5, 4, 7, 1, 12])\n",
    "bubble_sort([5, 4])\n",
    "bubble_sort([])"
   ]
  },
  {
   "cell_type": "code",
   "execution_count": 8,
   "metadata": {},
   "outputs": [
    {
     "data": {
      "text/plain": [
       "[1, 4, 5, 7, 12]"
      ]
     },
     "execution_count": 8,
     "metadata": {},
     "output_type": "execute_result"
    },
    {
     "data": {
      "text/plain": [
       "[4, 5]"
      ]
     },
     "execution_count": 8,
     "metadata": {},
     "output_type": "execute_result"
    },
    {
     "data": {
      "text/plain": [
       "[]"
      ]
     },
     "execution_count": 8,
     "metadata": {},
     "output_type": "execute_result"
    }
   ],
   "source": [
    "def selection_sort(arr):\n",
    "  n = len(arr)\n",
    "  for i in range(n):\n",
    "    min_pos = i\n",
    "    for j in range(i+1, n):\n",
    "      if arr[j] < arr[min_pos]:\n",
    "        min_pos = j\n",
    "    swap(arr, i, min_pos)\n",
    "\n",
    "  return arr\n",
    "\n",
    "\n",
    "selection_sort([5, 4, 7, 1, 12])\n",
    "selection_sort([5, 4])\n",
    "selection_sort([])"
   ]
  },
  {
   "cell_type": "code",
   "execution_count": 9,
   "metadata": {},
   "outputs": [
    {
     "data": {
      "text/plain": [
       "[1, 4, 5, 7, 12]"
      ]
     },
     "execution_count": 9,
     "metadata": {},
     "output_type": "execute_result"
    },
    {
     "data": {
      "text/plain": [
       "[4, 5]"
      ]
     },
     "execution_count": 9,
     "metadata": {},
     "output_type": "execute_result"
    },
    {
     "data": {
      "text/plain": [
       "[5]"
      ]
     },
     "execution_count": 9,
     "metadata": {},
     "output_type": "execute_result"
    },
    {
     "data": {
      "text/plain": [
       "[]"
      ]
     },
     "execution_count": 9,
     "metadata": {},
     "output_type": "execute_result"
    }
   ],
   "source": [
    "def insertion_sort(arr):\n",
    "  n = len(arr)\n",
    "  for i in range(1, n):\n",
    "    j = i\n",
    "    while j > 0 and arr[j] < arr[j-1]:\n",
    "      swap(arr, j, j-1)\n",
    "      j -= 1\n",
    "\n",
    "  return arr\n",
    "\n",
    "\n",
    "insertion_sort([5, 4, 7, 1, 12])\n",
    "insertion_sort([5, 4])\n",
    "insertion_sort([5])\n",
    "insertion_sort([])"
   ]
  },
  {
   "cell_type": "code",
   "execution_count": 10,
   "metadata": {},
   "outputs": [
    {
     "data": {
      "text/plain": [
       "[1, 4, 5, 7, 12]"
      ]
     },
     "execution_count": 10,
     "metadata": {},
     "output_type": "execute_result"
    },
    {
     "data": {
      "text/plain": [
       "[4, 5]"
      ]
     },
     "execution_count": 10,
     "metadata": {},
     "output_type": "execute_result"
    },
    {
     "data": {
      "text/plain": [
       "[5]"
      ]
     },
     "execution_count": 10,
     "metadata": {},
     "output_type": "execute_result"
    },
    {
     "data": {
      "text/plain": [
       "[]"
      ]
     },
     "execution_count": 10,
     "metadata": {},
     "output_type": "execute_result"
    }
   ],
   "source": [
    "def merge(left, right):\n",
    "  m, n = len(left), len(right)\n",
    "\n",
    "  merged, i, j = [], 0, 0\n",
    "  while i < m and j < n:\n",
    "    if left[i] <= right[j]:\n",
    "      merged.append(left[i])\n",
    "      i += 1\n",
    "    else:\n",
    "      merged.append(right[j])\n",
    "      j += 1\n",
    "\n",
    "  for p in range(i, m):\n",
    "    merged.append(left[p])\n",
    "\n",
    "  for p in range(j, n):\n",
    "    merged.append(right[p])\n",
    "\n",
    "  return merged\n",
    "\n",
    "\n",
    "def merge_sort(arr):\n",
    "  n = len(arr)\n",
    "  if n <= 1:\n",
    "    return arr\n",
    "\n",
    "  mid = n//2\n",
    "\n",
    "  left = arr[0:mid]\n",
    "  right = arr[mid:]\n",
    "\n",
    "  left_sorted = merge_sort(left)\n",
    "  right_sorted = merge_sort(right)\n",
    "\n",
    "  return merge(left_sorted, right_sorted)\n",
    "\n",
    "\n",
    "merge_sort([5, 4, 7, 1, 12])\n",
    "merge_sort([5, 4])\n",
    "merge_sort([5])\n",
    "merge_sort([])"
   ]
  },
  {
   "cell_type": "markdown",
   "metadata": {},
   "source": [
    "# Quick Sort"
   ]
  },
  {
   "cell_type": "code",
   "execution_count": 11,
   "metadata": {},
   "outputs": [
    {
     "data": {
      "text/plain": [
       "2"
      ]
     },
     "execution_count": 11,
     "metadata": {},
     "output_type": "execute_result"
    },
    {
     "data": {
      "text/plain": [
       "[10, 30, 40, 90, 80]"
      ]
     },
     "execution_count": 11,
     "metadata": {},
     "output_type": "execute_result"
    }
   ],
   "source": [
    "def partition(arr, lower, upper):\n",
    "  pivot = upper\n",
    "\n",
    "  i = lower\n",
    "  for j in range(lower, upper):\n",
    "    if arr[j] <= arr[pivot]:\n",
    "      swap(arr, i, j)\n",
    "      i += 1\n",
    "\n",
    "  swap(arr, i, pivot)\n",
    "  return i\n",
    "\n",
    "\n",
    "arr = [10, 80, 30, 90, 40]\n",
    "# arr = [10, 30]\n",
    "# arr = [90, 80]\n",
    "# arr = [90]\n",
    "partition(arr, 0, len(arr)-1)\n",
    "arr"
   ]
  },
  {
   "cell_type": "code",
   "execution_count": 12,
   "metadata": {},
   "outputs": [
    {
     "data": {
      "text/plain": [
       "0"
      ]
     },
     "execution_count": 12,
     "metadata": {},
     "output_type": "execute_result"
    },
    {
     "data": {
      "text/plain": [
       "[10, 80, 30, 90, 40]"
      ]
     },
     "execution_count": 12,
     "metadata": {},
     "output_type": "execute_result"
    }
   ],
   "source": [
    "def partition(arr, lower, upper):\n",
    "  pivot = lower\n",
    "\n",
    "  i = lower\n",
    "  for j in range(lower+1, upper+1):\n",
    "    if arr[j] <= arr[pivot]:\n",
    "      i += 1\n",
    "      swap(arr, i, j)\n",
    "\n",
    "  swap(arr, i, pivot)\n",
    "  return i\n",
    "\n",
    "\n",
    "arr = [10, 80, 30, 90, 40]\n",
    "# arr = [10, 30]\n",
    "# arr = [90, 80]\n",
    "# arr = [90]\n",
    "partition(arr, 0, len(arr)-1)\n",
    "arr"
   ]
  },
  {
   "cell_type": "code",
   "execution_count": 13,
   "metadata": {},
   "outputs": [
    {
     "data": {
      "text/plain": [
       "[1, 4, 5, 7, 12]"
      ]
     },
     "execution_count": 13,
     "metadata": {},
     "output_type": "execute_result"
    },
    {
     "data": {
      "text/plain": [
       "[4, 5]"
      ]
     },
     "execution_count": 13,
     "metadata": {},
     "output_type": "execute_result"
    },
    {
     "data": {
      "text/plain": [
       "[5]"
      ]
     },
     "execution_count": 13,
     "metadata": {},
     "output_type": "execute_result"
    },
    {
     "data": {
      "text/plain": [
       "[]"
      ]
     },
     "execution_count": 13,
     "metadata": {},
     "output_type": "execute_result"
    }
   ],
   "source": [
    "def quick_sort(arr, lower=None, upper=None):\n",
    "  if lower == None:\n",
    "    lower = 0\n",
    "    upper = len(arr)-1\n",
    "\n",
    "  if (lower < upper):\n",
    "    pivot = partition(arr, lower, upper)\n",
    "    quick_sort(arr, lower, pivot-1)\n",
    "    quick_sort(arr, pivot+1, upper)\n",
    "\n",
    "  return arr\n",
    "\n",
    "\n",
    "quick_sort([5, 4, 7, 1, 12])\n",
    "quick_sort([5, 4])\n",
    "quick_sort([5])\n",
    "quick_sort([])"
   ]
  },
  {
   "cell_type": "markdown",
   "metadata": {},
   "source": [
    "# W3 GRPA 1"
   ]
  },
  {
   "cell_type": "code",
   "execution_count": 2,
   "metadata": {},
   "outputs": [
    {
     "data": {
      "text/plain": [
       "True"
      ]
     },
     "execution_count": 2,
     "metadata": {},
     "output_type": "execute_result"
    },
    {
     "data": {
      "text/plain": [
       "True"
      ]
     },
     "execution_count": 2,
     "metadata": {},
     "output_type": "execute_result"
    },
    {
     "data": {
      "text/plain": [
       "True"
      ]
     },
     "execution_count": 2,
     "metadata": {},
     "output_type": "execute_result"
    }
   ],
   "source": [
    "def DishPrepareOrder(order_list):\n",
    "  frequencies = {}\n",
    "\n",
    "  for order in order_list:\n",
    "    if order in frequencies:\n",
    "      frequencies[order] += 1\n",
    "    else:\n",
    "      frequencies[order] = 1\n",
    "\n",
    "  return list(x[0]\n",
    "              for x in sorted(frequencies.items(), key=lambda x: (-x[1], x[0])))\n",
    "\n",
    "\n",
    "DishPrepareOrder(\n",
    "    [1006, 1008, 1009, 1008, 1007, 1005, 1008, 1001, 1003, 1009, 1006, 1003, 1004, 1002, 1008,\n",
    "     1005, 1004, 1007, 1006, 1002, 1002, 1001, 1004, 1001, 1003, 1007, 1007, 1005, 1004, 1002]\n",
    ") == [1002, 1004, 1007, 1008, 1001, 1003, 1005, 1006, 1009]\n",
    "\n",
    "DishPrepareOrder(\n",
    "    [1002, 1004, 1005, 1004, 1003, 1009, 1001, 1006, 1002, 1007, 1004, 1002, 1001, 1009, 1006, 1001, 1003, 1009, 1003, 1005, 1006, 1005, 1003, 1008, 1005, 1004, 1003, 1009, 1002, 1008, 1001, 1008, 1003, 1001, 1001, 1007, 1002, 1005, 1009, 1007, 1004, 1005, 1009, 1008, 1009, 1009, 1002, 1008, 1002, 1006,\n",
    "     1005, 1006, 1009, 1007, 1008, 1005, 1002, 1006, 1006, 1001, 1002, 1005, 1003, 1003, 1005, 1001, 1004, 1004, 1001, 1009, 1005, 1008, 1001, 1008, 1006, 1001, 1001, 1009, 1002, 1001, 1003, 1004, 1009, 1008, 1004, 1006, 1003, 1009, 1007, 1005, 1004, 1009, 1001, 1009, 1007, 1004, 1008, 1005, 1004, 1008]\n",
    ") == [1009, 1001, 1005, 1004, 1008, 1002, 1003, 1006, 1007]\n",
    "\n",
    "DishPrepareOrder(\n",
    "    [1009, 1001, 1005, 1004, 1008, 1002, 1003, 1006, 1007]\n",
    ") == [1001, 1002, 1003, 1004, 1005, 1006, 1007, 1008, 1009]"
   ]
  },
  {
   "cell_type": "markdown",
   "metadata": {},
   "source": [
    "# W3 GRPA 2"
   ]
  },
  {
   "cell_type": "code",
   "execution_count": 58,
   "metadata": {},
   "outputs": [
    {
     "data": {
      "text/plain": [
       "True"
      ]
     },
     "execution_count": 58,
     "metadata": {},
     "output_type": "execute_result"
    },
    {
     "data": {
      "text/plain": [
       "True"
      ]
     },
     "execution_count": 58,
     "metadata": {},
     "output_type": "execute_result"
    },
    {
     "data": {
      "text/plain": [
       "True"
      ]
     },
     "execution_count": 58,
     "metadata": {},
     "output_type": "execute_result"
    }
   ],
   "source": [
    "def EvaluateExpression(expression):\n",
    "  stack = []\n",
    "\n",
    "  for token in expression.split():\n",
    "    if token.isdigit():\n",
    "      stack.append(float(token))\n",
    "    elif token == '+':\n",
    "      operand2 = stack.pop()\n",
    "      operand1 = stack.pop()\n",
    "      stack.append(operand1 + operand2)\n",
    "    elif token == '-':\n",
    "      operand2 = stack.pop()\n",
    "      operand1 = stack.pop()\n",
    "      stack.append(operand1 - operand2)\n",
    "    elif token == '*':\n",
    "      operand2 = stack.pop()\n",
    "      operand1 = stack.pop()\n",
    "      stack.append(operand1 * operand2)\n",
    "    elif token == '/':\n",
    "      operand2 = stack.pop()\n",
    "      operand1 = stack.pop()\n",
    "      stack.append(operand1 / operand2)\n",
    "    elif token == '**':\n",
    "      operand2 = stack.pop()\n",
    "      operand1 = stack.pop()\n",
    "      stack.append(operand1 ** operand2)\n",
    "\n",
    "  if len(stack) == 1:\n",
    "    return stack[0]\n",
    "\n",
    "\n",
    "EvaluateExpression('2 3 1 * + 9 -') == -4.0\n",
    "EvaluateExpression('100 200 + 2 / 5 * 7 +') == 757.0\n",
    "EvaluateExpression('3 7 + 12 2 - *') == 100.0"
   ]
  },
  {
   "cell_type": "markdown",
   "metadata": {},
   "source": [
    "# W3 GRPA 3"
   ]
  },
  {
   "cell_type": "code",
   "execution_count": 65,
   "metadata": {},
   "outputs": [],
   "source": [
    "class Node:\n",
    "  def __init__(self, value=None):\n",
    "    self.value = value\n",
    "    self.next = None"
   ]
  },
  {
   "cell_type": "code",
   "execution_count": 66,
   "metadata": {},
   "outputs": [],
   "source": [
    "def reverse(root):\n",
    "  if root.next is None:\n",
    "    return root\n",
    "\n",
    "  prev_node = None\n",
    "  current_node = root\n",
    "  next_node = None\n",
    "\n",
    "  while current_node is not None:\n",
    "    next_node = current_node.next\n",
    "    current_node.next = prev_node\n",
    "\n",
    "    prev_node = current_node\n",
    "    current_node = next_node\n",
    "\n",
    "  return prev_node"
   ]
  },
  {
   "cell_type": "code",
   "execution_count": 85,
   "metadata": {},
   "outputs": [],
   "source": [
    "def create_linked_list(lst):\n",
    "  root = Node(lst[0])\n",
    "  current = root\n",
    "\n",
    "  for value in lst[1:]:\n",
    "    current.next = Node(value)\n",
    "    current = current.next\n",
    "\n",
    "  return root\n",
    "\n",
    "\n",
    "def test_reverse(lst):\n",
    "  root = create_linked_list(lst)\n",
    "  reversed_root = reverse(root)\n",
    "\n",
    "  reversed_lst = []\n",
    "  while reversed_root is not None:\n",
    "    reversed_lst.append(reversed_root.value)\n",
    "    reversed_root = reversed_root.next\n",
    "\n",
    "  return reversed_lst"
   ]
  },
  {
   "cell_type": "code",
   "execution_count": 86,
   "metadata": {},
   "outputs": [
    {
     "data": {
      "text/plain": [
       "True"
      ]
     },
     "execution_count": 86,
     "metadata": {},
     "output_type": "execute_result"
    },
    {
     "data": {
      "text/plain": [
       "True"
      ]
     },
     "execution_count": 86,
     "metadata": {},
     "output_type": "execute_result"
    },
    {
     "data": {
      "text/plain": [
       "True"
      ]
     },
     "execution_count": 86,
     "metadata": {},
     "output_type": "execute_result"
    }
   ],
   "source": [
    "test_reverse([64, 7, 28, 43, 3]) == [3, 43, 28, 7, 64]\n",
    "test_reverse([12]) == [12]\n",
    "test_reverse([1, 3, 12, 12, 12, 13, 1, 14, 5]) == [\n",
    "    5, 14, 1, 13, 12, 12, 12, 3, 1]"
   ]
  }
 ],
 "metadata": {
  "kernelspec": {
   "display_name": "Python 3",
   "language": "python",
   "name": "python3"
  },
  "language_info": {
   "codemirror_mode": {
    "name": "ipython",
    "version": 3
   },
   "file_extension": ".py",
   "mimetype": "text/x-python",
   "name": "python",
   "nbconvert_exporter": "python",
   "pygments_lexer": "ipython3",
   "version": "3.12.0"
  }
 },
 "nbformat": 4,
 "nbformat_minor": 2
}
