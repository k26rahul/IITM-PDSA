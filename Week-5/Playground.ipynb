{
 "cells": [
  {
   "cell_type": "code",
   "execution_count": 4,
   "metadata": {},
   "outputs": [
    {
     "data": {
      "text/plain": [
       "6"
      ]
     },
     "execution_count": 4,
     "metadata": {},
     "output_type": "execute_result"
    },
    {
     "data": {
      "text/plain": [
       "0"
      ]
     },
     "execution_count": 4,
     "metadata": {},
     "output_type": "execute_result"
    },
    {
     "data": {
      "text/plain": [
       "3"
      ]
     },
     "execution_count": 4,
     "metadata": {},
     "output_type": "execute_result"
    },
    {
     "data": {
      "text/plain": [
       "-1"
      ]
     },
     "execution_count": 4,
     "metadata": {},
     "output_type": "execute_result"
    }
   ],
   "source": [
    "def binary_search(list, v):\n",
    "  low = 0\n",
    "  high = len(list)-1\n",
    "\n",
    "  while low <= high:\n",
    "    mid = (low+high)//2\n",
    "    if list[mid] == v:\n",
    "      return mid\n",
    "    if list[mid] > v:\n",
    "      high = mid-1\n",
    "    else:\n",
    "      low = mid+1\n",
    "\n",
    "  return -1\n",
    "\n",
    "\n",
    "list = [1, 3, 4, 5, 10, 17, 19]\n",
    "\n",
    "binary_search(list, 19)\n",
    "binary_search(list, 1)\n",
    "binary_search(list, 5)\n",
    "binary_search(list, 50)"
   ]
  },
  {
   "cell_type": "code",
   "execution_count": 13,
   "metadata": {},
   "outputs": [
    {
     "data": {
      "text/plain": [
       "6"
      ]
     },
     "execution_count": 13,
     "metadata": {},
     "output_type": "execute_result"
    },
    {
     "data": {
      "text/plain": [
       "0"
      ]
     },
     "execution_count": 13,
     "metadata": {},
     "output_type": "execute_result"
    },
    {
     "data": {
      "text/plain": [
       "3"
      ]
     },
     "execution_count": 13,
     "metadata": {},
     "output_type": "execute_result"
    },
    {
     "data": {
      "text/plain": [
       "-1"
      ]
     },
     "execution_count": 13,
     "metadata": {},
     "output_type": "execute_result"
    }
   ],
   "source": [
    "def binary_search(list, v, low=0, high=None):\n",
    "  if len(list) == 0:\n",
    "    return -1\n",
    "\n",
    "  if high == None:\n",
    "    high = len(list)-1\n",
    "\n",
    "  if low > high:\n",
    "    return -1\n",
    "\n",
    "  mid = (low+high)//2\n",
    "  if list[mid] == v:\n",
    "    return mid\n",
    "\n",
    "  if list[mid] > v:\n",
    "    high = mid-1\n",
    "    return binary_search(list, v, low, high)\n",
    "  else:\n",
    "    low = low+1\n",
    "    return binary_search(list, v, low, high)\n",
    "\n",
    "\n",
    "list = [1, 3, 4, 5, 10, 17, 19]\n",
    "\n",
    "binary_search(list, 19)\n",
    "binary_search(list, 1)\n",
    "binary_search(list, 5)\n",
    "binary_search(list, 50)"
   ]
  },
  {
   "cell_type": "code",
   "execution_count": 30,
   "metadata": {},
   "outputs": [
    {
     "name": "stdout",
     "output_type": "stream",
     "text": [
      "40\n",
      "[10, 20, 30, 40]\n"
     ]
    }
   ],
   "source": [
    "class Stack:\n",
    "  items = []\n",
    "\n",
    "  def is_empty(self):\n",
    "    return len(self.items) == 0\n",
    "\n",
    "  def push(self, item):\n",
    "    self.items.append(item)\n",
    "\n",
    "  def pop(self):\n",
    "    item = None\n",
    "    if not self.is_empty():\n",
    "      item = self.items[-1]\n",
    "      self.items = self.items[:-1]\n",
    "    return item\n",
    "\n",
    "  def peek(self):\n",
    "    return self.items[-1]\n",
    "\n",
    "  def __str__(self):\n",
    "    return str(self.items)\n",
    "\n",
    "\n",
    "stack = Stack()\n",
    "stack.push(10)\n",
    "stack.push(20)\n",
    "stack.push(30)\n",
    "stack.push(40)\n",
    "print(stack.peek())\n",
    "print(stack)"
   ]
  },
  {
   "cell_type": "code",
   "execution_count": 39,
   "metadata": {},
   "outputs": [
    {
     "name": "stdout",
     "output_type": "stream",
     "text": [
      "10\n",
      "[10, 20, 30]\n"
     ]
    }
   ],
   "source": [
    "class Queue:\n",
    "  items = []\n",
    "\n",
    "  def is_empty(self):\n",
    "    return len(self.items) == 0\n",
    "\n",
    "  def enqueue(self, item):\n",
    "    self.items.append(item)\n",
    "\n",
    "  def dequeue(self):\n",
    "    item = None\n",
    "    if not self.is_empty():\n",
    "      item = self.items[0]\n",
    "      self.items = self.items[1:]\n",
    "    return item\n",
    "\n",
    "  def peek(self):\n",
    "    return self.items[0]\n",
    "\n",
    "  def __str__(self):\n",
    "    return str(self.items)\n",
    "\n",
    "\n",
    "queue = Queue()\n",
    "queue.enqueue(10)\n",
    "queue.enqueue(20)\n",
    "queue.enqueue(30)\n",
    "print(queue.peek())\n",
    "print(queue)"
   ]
  },
  {
   "cell_type": "code",
   "execution_count": 10,
   "metadata": {},
   "outputs": [
    {
     "name": "stdout",
     "output_type": "stream",
     "text": [
      "[10, 20, 30, 40, 50]\n"
     ]
    }
   ],
   "source": [
    "class Node:\n",
    "  def __init__(self, value):\n",
    "    self.value = value\n",
    "    self.next: Node = None\n",
    "\n",
    "\n",
    "class LinkedList:\n",
    "  head: Node = None\n",
    "  tail: Node = None\n",
    "  count = 0\n",
    "\n",
    "  def is_empty(self):\n",
    "    return self.head == None\n",
    "\n",
    "  def insertAtStart(self, value):\n",
    "    self.count += 1\n",
    "    if self.is_empty():\n",
    "      self.head = self.tail = Node(value)\n",
    "      return\n",
    "    node = Node(value)\n",
    "    node.next = self.head\n",
    "    self.head = node\n",
    "\n",
    "  def insertAtEnd(self, value):\n",
    "    self.count += 1\n",
    "    if self.is_empty():\n",
    "      self.head = self.tail = Node(value)\n",
    "      return\n",
    "    node = Node(value)\n",
    "    self.tail.next = node\n",
    "    self.tail = node\n",
    "\n",
    "  def insert(self, value, index=None):\n",
    "    if index == None:\n",
    "      self.insertAtEnd(value)\n",
    "      return\n",
    "    if index == 0:\n",
    "      self.insertAtStart(value)\n",
    "      return\n",
    "    if index > self.count:\n",
    "      raise IndexError(\"index out of range\")\n",
    "    prev = self.getNode(index - 1)\n",
    "    node = Node(value)\n",
    "    node.next = prev.next\n",
    "    prev.next = node\n",
    "    self.count += 1\n",
    "\n",
    "  def removeAtStart(self):\n",
    "    if self.is_empty():\n",
    "      return\n",
    "    self.head = self.head.next\n",
    "    self.count -= 1\n",
    "\n",
    "  def removeAtEnd(self):\n",
    "    if self.is_empty():\n",
    "      return\n",
    "    if self.count == 1:\n",
    "      self.removeAtStart()\n",
    "      return\n",
    "    prev = self.getNode(self.count - 2)\n",
    "    prev.next = None\n",
    "    self.tail = prev\n",
    "    self.count -= 1\n",
    "\n",
    "  def removeAtIndex(self, index):\n",
    "    if self.is_empty():\n",
    "      return\n",
    "    if index == 0:\n",
    "      self.removeAtStart()\n",
    "      return\n",
    "    if index == self.count-1:\n",
    "      self.removeAtEnd()\n",
    "      return\n",
    "    if index >= self.count:\n",
    "      raise IndexError(\"index out of range\")\n",
    "    prev = self.getNode(index - 1)\n",
    "    prev.next = prev.next.next\n",
    "    self.count -= 1\n",
    "\n",
    "  def removeValue(self, value):\n",
    "    self.removeAtIndex(self.indexOf(value))\n",
    "\n",
    "  def indexOf(self, value):\n",
    "    pointer = 0\n",
    "    current = self.head\n",
    "    while current != None:\n",
    "      if current.value == value:\n",
    "        return pointer\n",
    "      current = current.next\n",
    "      pointer += 1\n",
    "    return -1\n",
    "\n",
    "  def getNode(self, index) -> Node:\n",
    "    pointer = 0\n",
    "    current = self.head\n",
    "    while current != None and pointer < index:\n",
    "      current = current.next\n",
    "      pointer += 1\n",
    "    return current\n",
    "\n",
    "  def get(self, index):\n",
    "    if index >= self.count:\n",
    "      raise IndexError(\"index out of range\")\n",
    "    return self.getNode(index).value\n",
    "\n",
    "  def size(self):\n",
    "    return self.count\n",
    "\n",
    "  def __str__(self):\n",
    "    values = []\n",
    "    current = self.head\n",
    "    while current != None:\n",
    "      values.append(current.value)\n",
    "      current = current.next\n",
    "    return str(values)\n",
    "\n",
    "\n",
    "linked_list = LinkedList()\n",
    "linked_list.insert(10)\n",
    "linked_list.insert(20)\n",
    "linked_list.insert(30)\n",
    "linked_list.insert(40)\n",
    "linked_list.insert(50)\n",
    "print(linked_list)"
   ]
  },
  {
   "cell_type": "code",
   "execution_count": 12,
   "metadata": {},
   "outputs": [
    {
     "name": "stderr",
     "output_type": "stream",
     "text": [
      "..........\n",
      "----------------------------------------------------------------------\n",
      "Ran 10 tests in 0.006s\n",
      "\n",
      "OK\n"
     ]
    },
    {
     "data": {
      "text/plain": [
       "<unittest.runner.TextTestResult run=10 errors=0 failures=0>"
      ]
     },
     "execution_count": 12,
     "metadata": {},
     "output_type": "execute_result"
    }
   ],
   "source": [
    "import unittest\n",
    "\n",
    "\n",
    "class TestLinkedList(unittest.TestCase):\n",
    "  def setUp(self):\n",
    "    self.linked_list = LinkedList()\n",
    "\n",
    "  def test_insertAtStart(self):\n",
    "    self.linked_list.insertAtStart(10)\n",
    "    self.assertEqual(str(self.linked_list), '[10]')\n",
    "\n",
    "    self.linked_list.insertAtStart(20)\n",
    "    self.assertEqual(str(self.linked_list), '[20, 10]')\n",
    "\n",
    "  def test_insertAtEnd(self):\n",
    "    self.linked_list.insertAtEnd(10)\n",
    "    self.assertEqual(str(self.linked_list), '[10]')\n",
    "\n",
    "    self.linked_list.insertAtEnd(20)\n",
    "    self.assertEqual(str(self.linked_list), '[10, 20]')\n",
    "\n",
    "  def test_insert(self):\n",
    "    self.linked_list.insert(10)\n",
    "    self.linked_list.insert(20)\n",
    "    self.linked_list.insert(30)\n",
    "\n",
    "    self.assertEqual(str(self.linked_list), '[10, 20, 30]')\n",
    "\n",
    "    self.linked_list.insert(15, index=1)\n",
    "    self.assertEqual(str(self.linked_list), '[10, 15, 20, 30]')\n",
    "\n",
    "  def test_removeAtStart(self):\n",
    "    self.linked_list.insert(10)\n",
    "    self.linked_list.insert(20)\n",
    "    self.linked_list.insert(30)\n",
    "\n",
    "    self.linked_list.removeAtStart()\n",
    "    self.assertEqual(str(self.linked_list), '[20, 30]')\n",
    "\n",
    "  def test_removeAtEnd(self):\n",
    "    self.linked_list.insert(10)\n",
    "    self.linked_list.insert(20)\n",
    "    self.linked_list.insert(30)\n",
    "\n",
    "    self.linked_list.removeAtEnd()\n",
    "    self.assertEqual(str(self.linked_list), '[10, 20]')\n",
    "\n",
    "  def test_removeAtIndex(self):\n",
    "    self.linked_list.insert(10)\n",
    "    self.linked_list.insert(20)\n",
    "    self.linked_list.insert(30)\n",
    "\n",
    "    self.linked_list.removeAtIndex(1)\n",
    "    self.assertEqual(str(self.linked_list), '[10, 30]')\n",
    "\n",
    "  def test_removeValue(self):\n",
    "    self.linked_list.insert(10)\n",
    "    self.linked_list.insert(20)\n",
    "    self.linked_list.insert(30)\n",
    "\n",
    "    self.linked_list.removeValue(20)\n",
    "    self.assertEqual(str(self.linked_list), '[10, 30]')\n",
    "\n",
    "  def test_indexOf(self):\n",
    "    self.linked_list.insert(10)\n",
    "    self.linked_list.insert(20)\n",
    "    self.linked_list.insert(30)\n",
    "\n",
    "    self.assertEqual(self.linked_list.indexOf(20), 1)\n",
    "    self.assertEqual(self.linked_list.indexOf(40), -1)\n",
    "\n",
    "  def test_get(self):\n",
    "    self.linked_list.insert(10)\n",
    "    self.linked_list.insert(20)\n",
    "    self.linked_list.insert(30)\n",
    "\n",
    "    self.assertEqual(self.linked_list.get(1), 20)\n",
    "    with self.assertRaises(IndexError):\n",
    "      self.linked_list.get(3)\n",
    "\n",
    "  def test_size(self):\n",
    "    self.linked_list.insert(10)\n",
    "    self.linked_list.insert(20)\n",
    "    self.linked_list.insert(30)\n",
    "\n",
    "    self.assertEqual(self.linked_list.size(), 3)\n",
    "\n",
    "\n",
    "test_linked_list = TestLinkedList()\n",
    "unittest.TextTestRunner().run(\n",
    "    unittest.TestLoader().loadTestsFromModule(test_linked_list))"
   ]
  }
 ],
 "metadata": {
  "kernelspec": {
   "display_name": "Python 3",
   "language": "python",
   "name": "python3"
  },
  "language_info": {
   "codemirror_mode": {
    "name": "ipython",
    "version": 3
   },
   "file_extension": ".py",
   "mimetype": "text/x-python",
   "name": "python",
   "nbconvert_exporter": "python",
   "pygments_lexer": "ipython3",
   "version": "3.12.0"
  }
 },
 "nbformat": 4,
 "nbformat_minor": 2
}
