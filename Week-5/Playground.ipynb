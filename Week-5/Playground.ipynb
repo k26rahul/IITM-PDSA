{
 "cells": [
  {
   "cell_type": "code",
   "execution_count": 25,
   "metadata": {},
   "outputs": [
    {
     "data": {
      "text/plain": [
       "6"
      ]
     },
     "execution_count": 25,
     "metadata": {},
     "output_type": "execute_result"
    },
    {
     "data": {
      "text/plain": [
       "0"
      ]
     },
     "execution_count": 25,
     "metadata": {},
     "output_type": "execute_result"
    },
    {
     "data": {
      "text/plain": [
       "3"
      ]
     },
     "execution_count": 25,
     "metadata": {},
     "output_type": "execute_result"
    },
    {
     "data": {
      "text/plain": [
       "-1"
      ]
     },
     "execution_count": 25,
     "metadata": {},
     "output_type": "execute_result"
    }
   ],
   "source": [
    "def binary_search(list, v):\n",
    "  low = 0\n",
    "  high = len(list) - 1\n",
    "  while low <= high:\n",
    "    mid = (low + high)//2\n",
    "    if list[mid] == v:\n",
    "      return mid\n",
    "    if list[mid] < v:\n",
    "      low = mid+1\n",
    "    else:\n",
    "      high = mid-1\n",
    "  return -1\n",
    "\n",
    "\n",
    "list = [1, 3, 4, 5, 10, 17, 19]\n",
    "binary_search(list, 19)\n",
    "binary_search(list, 1)\n",
    "binary_search(list, 5)\n",
    "binary_search(list, 50)"
   ]
  }
 ],
 "metadata": {
  "kernelspec": {
   "display_name": "Python 3",
   "language": "python",
   "name": "python3"
  },
  "language_info": {
   "codemirror_mode": {
    "name": "ipython",
    "version": 3
   },
   "file_extension": ".py",
   "mimetype": "text/x-python",
   "name": "python",
   "nbconvert_exporter": "python",
   "pygments_lexer": "ipython3",
   "version": "3.12.0"
  }
 },
 "nbformat": 4,
 "nbformat_minor": 2
}
