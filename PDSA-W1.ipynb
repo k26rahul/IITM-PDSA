{
 "cells": [
  {
   "cell_type": "markdown",
   "metadata": {},
   "source": [
    "# Computing gcd"
   ]
  },
  {
   "cell_type": "code",
   "execution_count": 3,
   "metadata": {},
   "outputs": [],
   "source": [
    "def gcd(m, n):\n",
    "  (a, b) = (max(m, n), min(m, n))\n",
    "\n",
    "  print(f'{a=}, {b=}, diff={a-b}')\n",
    "\n",
    "  if a % b == 0:\n",
    "    return (b)\n",
    "  else:\n",
    "    return (gcd(b, a-b))"
   ]
  },
  {
   "cell_type": "code",
   "execution_count": 4,
   "metadata": {},
   "outputs": [
    {
     "name": "stdout",
     "output_type": "stream",
     "text": [
      "a=50, b=15, diff=35\n",
      "a=35, b=15, diff=20\n",
      "a=20, b=15, diff=5\n",
      "a=15, b=5, diff=10\n"
     ]
    },
    {
     "data": {
      "text/plain": [
       "5"
      ]
     },
     "execution_count": 4,
     "metadata": {},
     "output_type": "execute_result"
    }
   ],
   "source": [
    "gcd(50, 15)"
   ]
  },
  {
   "cell_type": "code",
   "execution_count": 5,
   "metadata": {},
   "outputs": [],
   "source": [
    "def gcd_euclid(m, n):\n",
    "  (a, b) = (max(m, n), min(m, n))\n",
    "\n",
    "  print(f'{a=}, {b=}, mod={a-b}')\n",
    "\n",
    "  if a % b == 0:\n",
    "    return (b)\n",
    "  else:\n",
    "    return (gcd_euclid(b, a % b))"
   ]
  },
  {
   "cell_type": "code",
   "execution_count": 6,
   "metadata": {},
   "outputs": [
    {
     "name": "stdout",
     "output_type": "stream",
     "text": [
      "a=50, b=15, mod=35\n",
      "a=15, b=5, mod=10\n"
     ]
    },
    {
     "data": {
      "text/plain": [
       "5"
      ]
     },
     "execution_count": 6,
     "metadata": {},
     "output_type": "execute_result"
    }
   ],
   "source": [
    "gcd_euclid(50, 15)"
   ]
  },
  {
   "cell_type": "code",
   "execution_count": 7,
   "metadata": {},
   "outputs": [
    {
     "name": "stdout",
     "output_type": "stream",
     "text": [
      "(3,4)\n",
      "(8,12)\n"
     ]
    }
   ],
   "source": [
    "class Point:\n",
    "  def __init__(self, a=0, b=0):\n",
    "    self.x = a\n",
    "    self.y = b\n",
    "\n",
    "  def translate(self, deltax, deltay):\n",
    "    self.x += deltax\n",
    "    self.y += deltay\n",
    "\n",
    "  def odistance(self):\n",
    "    import math\n",
    "    d = math.sqrt(self.x*self.x +\n",
    "                  self.y*self.y)\n",
    "    return (d)\n",
    "\n",
    "  def __str__(self):\n",
    "    return ('('+str(self.x)+','\n",
    "            + str(self.y)+')')\n",
    "\n",
    "  def __add__(self, p):\n",
    "    return (Point(self.x + p.x,\n",
    "                  self.y + p.y))\n",
    "\n",
    "\n",
    "p = Point(3, 4)\n",
    "q = Point(5, 8)\n",
    "print(p)\n",
    "print(p+q)"
   ]
  },
  {
   "cell_type": "code",
   "execution_count": 8,
   "metadata": {},
   "outputs": [],
   "source": [
    "import time"
   ]
  },
  {
   "cell_type": "code",
   "execution_count": 9,
   "metadata": {},
   "outputs": [
    {
     "data": {
      "text/plain": [
       "6923.4922658"
      ]
     },
     "execution_count": 9,
     "metadata": {},
     "output_type": "execute_result"
    }
   ],
   "source": [
    "time.perf_counter()"
   ]
  },
  {
   "cell_type": "code",
   "execution_count": 5,
   "metadata": {},
   "outputs": [],
   "source": [
    "from PerfTimer import PerfTimer"
   ]
  },
  {
   "cell_type": "code",
   "execution_count": 2,
   "metadata": {},
   "outputs": [],
   "source": [
    "def binary_search(L, v):\n",
    "  low = 0\n",
    "  high = len(L) - 1\n",
    "\n",
    "  while low <= high:\n",
    "    mid = (low + high) // 2\n",
    "\n",
    "    if L[mid] == v:\n",
    "      return mid\n",
    "\n",
    "    elif L[mid] > v:\n",
    "      high = mid - 1\n",
    "\n",
    "    elif L[mid] < v:\n",
    "      low = mid + 1\n",
    "\n",
    "  return -1"
   ]
  },
  {
   "cell_type": "code",
   "execution_count": 3,
   "metadata": {},
   "outputs": [],
   "source": [
    "def binary_search_rec(L, v, low=None, high=None):\n",
    "  if low == None:\n",
    "    low = 0\n",
    "  if high == None:\n",
    "    high = len(L)\n",
    "\n",
    "  if low > high:\n",
    "    return -1\n",
    "\n",
    "  mid = (low + high) // 2\n",
    "\n",
    "  if L[mid] == v:\n",
    "    return mid\n",
    "\n",
    "  elif L[mid] > v:\n",
    "    high = mid - 1\n",
    "    return binary_search_rec(L, v, low, high)\n",
    "\n",
    "  elif L[mid] < v:\n",
    "    low = mid + 1\n",
    "    return binary_search_rec(L, v, low, high)"
   ]
  },
  {
   "cell_type": "code",
   "execution_count": 6,
   "metadata": {},
   "outputs": [],
   "source": [
    "t = PerfTimer()"
   ]
  },
  {
   "cell_type": "code",
   "execution_count": 11,
   "metadata": {},
   "outputs": [
    {
     "data": {
      "text/plain": [
       "0"
      ]
     },
     "execution_count": 11,
     "metadata": {},
     "output_type": "execute_result"
    },
    {
     "name": "stdout",
     "output_type": "stream",
     "text": [
      "1.30 milliseconds\n"
     ]
    }
   ],
   "source": [
    "t.start()\n",
    "binary_search([2, 5, 6, 7, 9, 11],  2)\n",
    "t.stop()"
   ]
  },
  {
   "cell_type": "code",
   "execution_count": 15,
   "metadata": {},
   "outputs": [
    {
     "data": {
      "text/plain": [
       "5"
      ]
     },
     "execution_count": 15,
     "metadata": {},
     "output_type": "execute_result"
    },
    {
     "name": "stdout",
     "output_type": "stream",
     "text": [
      "1.36 milliseconds\n"
     ]
    }
   ],
   "source": [
    "t.start()\n",
    "binary_search_rec([2, 5, 6, 7, 9, 11],  11)\n",
    "t.stop()"
   ]
  },
  {
   "cell_type": "code",
   "execution_count": 16,
   "metadata": {},
   "outputs": [],
   "source": [
    "def naive_search(L, v):\n",
    "  for i, x in enumerate(L):\n",
    "    if x == v:\n",
    "      return i\n",
    "\n",
    "  return -1"
   ]
  },
  {
   "cell_type": "code",
   "execution_count": 17,
   "metadata": {},
   "outputs": [
    {
     "data": {
      "text/plain": [
       "5"
      ]
     },
     "execution_count": 17,
     "metadata": {},
     "output_type": "execute_result"
    },
    {
     "name": "stdout",
     "output_type": "stream",
     "text": [
      "1.31 milliseconds\n"
     ]
    }
   ],
   "source": [
    "t.start()\n",
    "naive_search([2, 5, 6, 7, 9, 11],  11)\n",
    "t.stop()"
   ]
  },
  {
   "cell_type": "code",
   "execution_count": 33,
   "metadata": {},
   "outputs": [],
   "source": [
    "N = 10**8\n",
    "L = list(range(N))"
   ]
  },
  {
   "cell_type": "code",
   "execution_count": 34,
   "metadata": {},
   "outputs": [
    {
     "data": {
      "text/plain": [
       "99999999"
      ]
     },
     "execution_count": 34,
     "metadata": {},
     "output_type": "execute_result"
    },
    {
     "name": "stdout",
     "output_type": "stream",
     "text": [
      "9568.96 milliseconds\n"
     ]
    }
   ],
   "source": [
    "t.start()\n",
    "naive_search(L, N-1)\n",
    "t.stop()"
   ]
  },
  {
   "cell_type": "code",
   "execution_count": 36,
   "metadata": {},
   "outputs": [
    {
     "data": {
      "text/plain": [
       "99999999"
      ]
     },
     "execution_count": 36,
     "metadata": {},
     "output_type": "execute_result"
    },
    {
     "name": "stdout",
     "output_type": "stream",
     "text": [
      "1.60 milliseconds\n"
     ]
    }
   ],
   "source": [
    "t.start()\n",
    "binary_search(L, N-1)\n",
    "t.stop()"
   ]
  }
 ],
 "metadata": {
  "kernelspec": {
   "display_name": "Python 3",
   "language": "python",
   "name": "python3"
  },
  "language_info": {
   "codemirror_mode": {
    "name": "ipython",
    "version": 3
   },
   "file_extension": ".py",
   "mimetype": "text/x-python",
   "name": "python",
   "nbconvert_exporter": "python",
   "pygments_lexer": "ipython3",
   "version": "3.12.0"
  }
 },
 "nbformat": 4,
 "nbformat_minor": 2
}
