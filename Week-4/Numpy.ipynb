{
 "cells": [
  {
   "cell_type": "code",
   "execution_count": 1,
   "metadata": {},
   "outputs": [],
   "source": [
    "import numpy as np"
   ]
  },
  {
   "cell_type": "code",
   "execution_count": 2,
   "metadata": {},
   "outputs": [],
   "source": [
    "V = [0, 1, 2, 3, 4]\n",
    "E = [(0, 1), (0, 2), (1, 3), (1, 4), (2, 4), (2, 3), (3, 4)]"
   ]
  },
  {
   "cell_type": "code",
   "execution_count": 3,
   "metadata": {},
   "outputs": [],
   "source": [
    "UE = E + [(j, i) for (i, j) in E]"
   ]
  },
  {
   "cell_type": "code",
   "execution_count": 4,
   "metadata": {},
   "outputs": [
    {
     "data": {
      "text/plain": [
       "array([[0., 1., 1., 0., 0.],\n",
       "       [0., 0., 0., 1., 1.],\n",
       "       [0., 0., 0., 1., 1.],\n",
       "       [0., 0., 0., 0., 1.],\n",
       "       [0., 0., 0., 0., 0.]])"
      ]
     },
     "execution_count": 4,
     "metadata": {},
     "output_type": "execute_result"
    }
   ],
   "source": [
    "size = len(V)\n",
    "\n",
    "adjacency_matrix = np.zeros(shape=(size, size))\n",
    "\n",
    "for i, j in E:\n",
    "  adjacency_matrix[i, j] = 1\n",
    "\n",
    "adjacency_matrix"
   ]
  },
  {
   "cell_type": "code",
   "execution_count": 5,
   "metadata": {},
   "outputs": [
    {
     "data": {
      "text/plain": [
       "array([[0., 1., 1., 0., 0.],\n",
       "       [1., 0., 0., 1., 1.],\n",
       "       [1., 0., 0., 1., 1.],\n",
       "       [0., 1., 1., 0., 1.],\n",
       "       [0., 1., 1., 1., 0.]])"
      ]
     },
     "execution_count": 5,
     "metadata": {},
     "output_type": "execute_result"
    }
   ],
   "source": [
    "size = len(V)\n",
    "\n",
    "adjacency_matrix = np.zeros(shape=(size, size))\n",
    "\n",
    "for i, j in UE:\n",
    "  adjacency_matrix[i, j] = 1\n",
    "\n",
    "adjacency_matrix"
   ]
  },
  {
   "cell_type": "code",
   "execution_count": 6,
   "metadata": {},
   "outputs": [
    {
     "data": {
      "text/plain": [
       "{0: [1, 2], 1: [3, 4], 2: [4, 3], 3: [4], 4: []}"
      ]
     },
     "execution_count": 6,
     "metadata": {},
     "output_type": "execute_result"
    }
   ],
   "source": [
    "adjacency_list = {i: [] for i in V}\n",
    "\n",
    "for i, j in E:\n",
    "  adjacency_list[i].append(j)\n",
    "\n",
    "adjacency_list"
   ]
  },
  {
   "cell_type": "code",
   "execution_count": 7,
   "metadata": {},
   "outputs": [
    {
     "data": {
      "text/plain": [
       "{0: [1, 2], 1: [3, 4, 0], 2: [4, 3, 0], 3: [4, 1, 2], 4: [1, 2, 3]}"
      ]
     },
     "execution_count": 7,
     "metadata": {},
     "output_type": "execute_result"
    }
   ],
   "source": [
    "adjacency_list = {i: [] for i in V}\n",
    "\n",
    "for i, j in UE:\n",
    "  adjacency_list[i].append(j)\n",
    "\n",
    "adjacency_list"
   ]
  },
  {
   "cell_type": "code",
   "execution_count": 8,
   "metadata": {},
   "outputs": [
    {
     "name": "stdout",
     "output_type": "stream",
     "text": [
      "10\n",
      "20\n",
      "[30, 40]\n"
     ]
    }
   ],
   "source": [
    "class Queue:\n",
    "  def __init__(self):\n",
    "    self.queue = []\n",
    "\n",
    "  def isEmpty(self):\n",
    "    return len(self.queue) == 0\n",
    "\n",
    "  def enqueue(self, value):\n",
    "    self.queue.append(value)\n",
    "\n",
    "  def dequeue(self):\n",
    "    value = None\n",
    "    if not self.isEmpty():\n",
    "      value = self.queue[0]\n",
    "      self.queue = self.queue[1:]\n",
    "\n",
    "    return value\n",
    "\n",
    "  def __str__(self):\n",
    "    return str(self.queue)\n",
    "\n",
    "\n",
    "q = Queue()\n",
    "\n",
    "q.enqueue(10)\n",
    "q.enqueue(20)\n",
    "q.enqueue(30)\n",
    "\n",
    "print(q.dequeue())\n",
    "print(q.dequeue())\n",
    "\n",
    "q.enqueue(40)\n",
    "\n",
    "print(q)"
   ]
  },
  {
   "cell_type": "code",
   "execution_count": 9,
   "metadata": {},
   "outputs": [
    {
     "data": {
      "text/plain": [
       "{0: True, 1: True, 2: True, 3: True, 4: True}"
      ]
     },
     "execution_count": 9,
     "metadata": {},
     "output_type": "execute_result"
    }
   ],
   "source": [
    "def bfs_adjacency_list(adjacency_list, start_vertex):\n",
    "  visited = {i: False for i in adjacency_list.keys()}\n",
    "\n",
    "  q = Queue()\n",
    "\n",
    "  visited[start_vertex] = True\n",
    "  q.enqueue(start_vertex)\n",
    "\n",
    "  while not q.isEmpty():\n",
    "    curr_vertex = q.dequeue()\n",
    "    for adj_vertex in adjacency_list[curr_vertex]:\n",
    "      if not visited[adj_vertex]:\n",
    "        visited[adj_vertex] = True\n",
    "        q.enqueue(adj_vertex)\n",
    "\n",
    "  return visited\n",
    "\n",
    "\n",
    "adjacency_list = {0: [1, 2], 1: [3, 4], 2: [4, 3], 3: [4], 4: []}\n",
    "bfs_adjacency_list(adjacency_list=adjacency_list, start_vertex=0)"
   ]
  },
  {
   "cell_type": "code",
   "execution_count": 10,
   "metadata": {},
   "outputs": [
    {
     "data": {
      "text/plain": [
       "{0: True, 1: True, 2: True, 3: True, 4: True}"
      ]
     },
     "execution_count": 10,
     "metadata": {},
     "output_type": "execute_result"
    }
   ],
   "source": [
    "def neighbors(adjacency_matrix, vertex):\n",
    "  return [i for i in range(len(adjacency_matrix[vertex])) if adjacency_matrix[vertex][i] == 1]\n",
    "\n",
    "\n",
    "def bfs_adjacency_matrix(adjacency_matrix, start_vertex):\n",
    "  visited = {i: False for i in range(len(adjacency_matrix[0]))}\n",
    "\n",
    "  q = Queue()\n",
    "\n",
    "  visited[start_vertex] = True\n",
    "  q.enqueue(start_vertex)\n",
    "\n",
    "  while not q.isEmpty():\n",
    "    curr_vertex = q.dequeue()\n",
    "    for adj_vertex in neighbors(adjacency_matrix=adjacency_matrix, vertex=curr_vertex):\n",
    "      if not visited[adj_vertex]:\n",
    "        visited[adj_vertex] = True\n",
    "        q.enqueue(adj_vertex)\n",
    "\n",
    "  return visited\n",
    "\n",
    "\n",
    "V = [0, 1, 2, 3, 4]\n",
    "E = [(0, 1), (0, 2), (1, 3), (1, 4), (2, 4), (2, 3), (3, 4)]\n",
    "size = len(V)\n",
    "adjacency_matrix = np.zeros(shape=(size, size))\n",
    "\n",
    "for i, j in E:\n",
    "  adjacency_matrix[i, j] = 1\n",
    "\n",
    "bfs_adjacency_matrix(adjacency_matrix=adjacency_matrix, start_vertex=0)"
   ]
  },
  {
   "cell_type": "code",
   "execution_count": 11,
   "metadata": {},
   "outputs": [
    {
     "name": "stdout",
     "output_type": "stream",
     "text": [
      "({0: 0, 1: 1, 2: 1, 3: 2, 4: 2}, {0: -1, 1: 0, 2: 0, 3: 1, 4: 1})\n",
      "({0: 0, 1: 1, 2: 1, 3: 2, 4: 2}, {0: -1, 1: 0, 2: 0, 3: 1, 4: 1})\n"
     ]
    }
   ],
   "source": [
    "def bfs_adjacency_list(adjacency_list, start_vertex):\n",
    "  levels = {i: -1 for i in adjacency_list.keys()}\n",
    "  parents = {i: -1 for i in adjacency_list.keys()}\n",
    "\n",
    "  q = Queue()\n",
    "\n",
    "  levels[start_vertex] = 0\n",
    "  q.enqueue(start_vertex)\n",
    "\n",
    "  while not q.isEmpty():\n",
    "    curr_vertex = q.dequeue()\n",
    "    for adj_vertex in adjacency_list[curr_vertex]:\n",
    "      if levels[adj_vertex] == -1:\n",
    "        levels[adj_vertex] = levels[curr_vertex] + 1\n",
    "        parents[adj_vertex] = curr_vertex\n",
    "        q.enqueue(adj_vertex)\n",
    "\n",
    "  return levels, parents\n",
    "\n",
    "\n",
    "adjacency_list = {0: [1, 2], 1: [3, 4], 2: [4, 3], 3: [4], 4: []}\n",
    "print(bfs_adjacency_list(adjacency_list=adjacency_list, start_vertex=0))\n",
    "print(({0: 0, 1: 1, 2: 1, 3: 2, 4: 2}, {0: -1, 1: 0, 2: 0, 3: 1, 4: 1}))"
   ]
  },
  {
   "cell_type": "code",
   "execution_count": 12,
   "metadata": {},
   "outputs": [
    {
     "name": "stdout",
     "output_type": "stream",
     "text": [
      "30\n",
      "20\n",
      "[10, 40]\n"
     ]
    }
   ],
   "source": [
    "class Stack:\n",
    "  def __init__(self):\n",
    "    self.stack = []\n",
    "\n",
    "  def isEmpty(self):\n",
    "    return len(self.stack) == 0\n",
    "\n",
    "  def push(self, value):\n",
    "    self.stack.append(value)\n",
    "\n",
    "  def pop(self):\n",
    "    value = None\n",
    "    if not self.isEmpty():\n",
    "      value = self.stack.pop()\n",
    "\n",
    "    return value\n",
    "\n",
    "  def __str__(self):\n",
    "    return str(self.stack)\n",
    "\n",
    "\n",
    "s = Stack()\n",
    "\n",
    "s.push(10)\n",
    "s.push(20)\n",
    "s.push(30)\n",
    "\n",
    "print(s.pop())\n",
    "print(s.pop())\n",
    "\n",
    "s.push(40)\n",
    "\n",
    "print(s)"
   ]
  },
  {
   "cell_type": "code",
   "execution_count": 13,
   "metadata": {},
   "outputs": [
    {
     "data": {
      "text/plain": [
       "{0: True, 1: True, 2: True, 3: True, 4: True}"
      ]
     },
     "execution_count": 13,
     "metadata": {},
     "output_type": "execute_result"
    }
   ],
   "source": [
    "def dfs_adjacency_list(adjacency_list, start_vertex):\n",
    "  visited = {i: False for i in adjacency_list.keys()}\n",
    "\n",
    "  s = Stack()\n",
    "  s.push(start_vertex)\n",
    "\n",
    "  while not s.isEmpty():\n",
    "    curr_vertex = s.pop()\n",
    "    if not visited[curr_vertex]:\n",
    "      visited[curr_vertex] = True\n",
    "      for adj_vertex in adjacency_list[curr_vertex]:\n",
    "        s.push(adj_vertex)\n",
    "\n",
    "  return visited\n",
    "\n",
    "\n",
    "adjacency_list = {0: [1, 2], 1: [3, 4], 2: [4, 3], 3: [4], 4: []}\n",
    "dfs_adjacency_list(adjacency_list=adjacency_list, start_vertex=0)"
   ]
  },
  {
   "cell_type": "code",
   "execution_count": 14,
   "metadata": {},
   "outputs": [
    {
     "data": {
      "text/plain": [
       "{0: True, 1: True, 2: True, 3: True, 4: True}"
      ]
     },
     "execution_count": 14,
     "metadata": {},
     "output_type": "execute_result"
    }
   ],
   "source": [
    "def dfs_adjacency_list_recursive(adjacency_list, vertex, visited=None):\n",
    "  if visited == None:\n",
    "    visited = {i: False for i in adjacency_list.keys()}\n",
    "\n",
    "  if not visited[vertex]:\n",
    "    visited[vertex] = True\n",
    "    for adj_vertex in adjacency_list[vertex]:\n",
    "      if not visited[adj_vertex]:\n",
    "        dfs_adjacency_list_recursive(\n",
    "            adjacency_list=adjacency_list, vertex=adj_vertex, visited=visited)\n",
    "\n",
    "  return visited\n",
    "\n",
    "\n",
    "adjacency_list = {0: [1, 2], 1: [3, 4], 2: [4, 3], 3: [4], 4: []}\n",
    "dfs_adjacency_list_recursive(adjacency_list=adjacency_list, vertex=0)"
   ]
  },
  {
   "cell_type": "code",
   "execution_count": 43,
   "metadata": {},
   "outputs": [
    {
     "data": {
      "text/plain": [
       "array([[1, 2, 3],\n",
       "       [4, 5, 6]])"
      ]
     },
     "execution_count": 43,
     "metadata": {},
     "output_type": "execute_result"
    }
   ],
   "source": [
    "a = np.array([\n",
    "    [1, 2, 3], [4, 5, 6]\n",
    "])\n",
    "\n",
    "a"
   ]
  },
  {
   "cell_type": "code",
   "execution_count": 50,
   "metadata": {},
   "outputs": [
    {
     "data": {
      "text/plain": [
       "array([[0., 0., 0., 0., 0.],\n",
       "       [0., 0., 0., 0., 0.]])"
      ]
     },
     "execution_count": 50,
     "metadata": {},
     "output_type": "execute_result"
    },
    {
     "data": {
      "text/plain": [
       "array([[[1., 1., 1., 1., 1.],\n",
       "        [1., 1., 1., 1., 1.]],\n",
       "\n",
       "       [[1., 1., 1., 1., 1.],\n",
       "        [1., 1., 1., 1., 1.]]])"
      ]
     },
     "execution_count": 50,
     "metadata": {},
     "output_type": "execute_result"
    }
   ],
   "source": [
    "np.zeros(shape=(2, 5))\n",
    "np.ones(shape=(2, 2, 5))"
   ]
  },
  {
   "cell_type": "code",
   "execution_count": 53,
   "metadata": {},
   "outputs": [
    {
     "data": {
      "text/plain": [
       "array([20, 21, 22, 23, 24, 25, 26, 27, 28, 29])"
      ]
     },
     "execution_count": 53,
     "metadata": {},
     "output_type": "execute_result"
    },
    {
     "data": {
      "text/plain": [
       "array([20, 22, 24, 26, 28])"
      ]
     },
     "execution_count": 53,
     "metadata": {},
     "output_type": "execute_result"
    }
   ],
   "source": [
    "np.arange(20, 30)\n",
    "np.arange(20, 30, 2)"
   ]
  },
  {
   "cell_type": "code",
   "execution_count": 60,
   "metadata": {},
   "outputs": [
    {
     "data": {
      "text/plain": [
       "array([20.        , 20.20408163, 20.40816327, 20.6122449 , 20.81632653,\n",
       "       21.02040816, 21.2244898 , 21.42857143, 21.63265306, 21.83673469,\n",
       "       22.04081633, 22.24489796, 22.44897959, 22.65306122, 22.85714286,\n",
       "       23.06122449, 23.26530612, 23.46938776, 23.67346939, 23.87755102,\n",
       "       24.08163265, 24.28571429, 24.48979592, 24.69387755, 24.89795918,\n",
       "       25.10204082, 25.30612245, 25.51020408, 25.71428571, 25.91836735,\n",
       "       26.12244898, 26.32653061, 26.53061224, 26.73469388, 26.93877551,\n",
       "       27.14285714, 27.34693878, 27.55102041, 27.75510204, 27.95918367,\n",
       "       28.16326531, 28.36734694, 28.57142857, 28.7755102 , 28.97959184,\n",
       "       29.18367347, 29.3877551 , 29.59183673, 29.79591837, 30.        ])"
      ]
     },
     "execution_count": 60,
     "metadata": {},
     "output_type": "execute_result"
    },
    {
     "data": {
      "text/plain": [
       "array([20., 30.])"
      ]
     },
     "execution_count": 60,
     "metadata": {},
     "output_type": "execute_result"
    },
    {
     "data": {
      "text/plain": [
       "array([20. , 22.5, 25. , 27.5, 30. ])"
      ]
     },
     "execution_count": 60,
     "metadata": {},
     "output_type": "execute_result"
    },
    {
     "data": {
      "text/plain": [
       "array([20.        , 21.11111111, 22.22222222, 23.33333333, 24.44444444,\n",
       "       25.55555556, 26.66666667, 27.77777778, 28.88888889, 30.        ])"
      ]
     },
     "execution_count": 60,
     "metadata": {},
     "output_type": "execute_result"
    }
   ],
   "source": [
    "np.linspace(20, 30)\n",
    "np.linspace(20, 30, 2)\n",
    "np.linspace(20, 30, 5)\n",
    "np.linspace(20, 30, 10)"
   ]
  },
  {
   "cell_type": "code",
   "execution_count": 77,
   "metadata": {},
   "outputs": [
    {
     "data": {
      "text/plain": [
       "array([[10, 10],\n",
       "       [10, 10]])"
      ]
     },
     "execution_count": 77,
     "metadata": {},
     "output_type": "execute_result"
    },
    {
     "data": {
      "text/plain": [
       "array([[1., 0., 0., 0.],\n",
       "       [0., 1., 0., 0.],\n",
       "       [0., 0., 1., 0.],\n",
       "       [0., 0., 0., 1.]])"
      ]
     },
     "execution_count": 77,
     "metadata": {},
     "output_type": "execute_result"
    }
   ],
   "source": [
    "np.full(shape=(2, 2), fill_value=10)\n",
    "np.eye(4)"
   ]
  },
  {
   "cell_type": "code",
   "execution_count": 132,
   "metadata": {},
   "outputs": [
    {
     "data": {
      "text/plain": [
       "0.3698388352919981"
      ]
     },
     "execution_count": 132,
     "metadata": {},
     "output_type": "execute_result"
    },
    {
     "data": {
      "text/plain": [
       "array([0.57568608, 0.85321703, 0.7554479 , 0.45172895, 0.80542935])"
      ]
     },
     "execution_count": 132,
     "metadata": {},
     "output_type": "execute_result"
    },
    {
     "data": {
      "text/plain": [
       "array([[0.41843622, 0.21771368, 0.13898973, 0.38076006, 0.61642414],\n",
       "       [0.43645442, 0.95579964, 0.34070873, 0.87948456, 0.10975862]])"
      ]
     },
     "execution_count": 132,
     "metadata": {},
     "output_type": "execute_result"
    }
   ],
   "source": [
    "# Return random floats in the half-open interval [0.0, 1.0)\n",
    "\n",
    "np.random.random()\n",
    "np.random.random(5)\n",
    "np.random.random(size=(2, 5))"
   ]
  },
  {
   "cell_type": "code",
   "execution_count": 135,
   "metadata": {},
   "outputs": [
    {
     "data": {
      "text/plain": [
       "0.8385162012999259"
      ]
     },
     "execution_count": 135,
     "metadata": {},
     "output_type": "execute_result"
    },
    {
     "data": {
      "text/plain": [
       "array([0.30476513, 0.2389067 , 0.30677314, 0.30447877, 0.59372738])"
      ]
     },
     "execution_count": 135,
     "metadata": {},
     "output_type": "execute_result"
    },
    {
     "data": {
      "text/plain": [
       "array([[0.41139892, 0.46329685, 0.78441162, 0.83205826, 0.35867641],\n",
       "       [0.38780589, 0.65356784, 0.82165667, 0.3561205 , 0.84312707]])"
      ]
     },
     "execution_count": 135,
     "metadata": {},
     "output_type": "execute_result"
    }
   ],
   "source": [
    "# Create an array of the given shape and populate it with random samples from a uniform distribution over [0, 1).\n",
    "\n",
    "np.random.rand()\n",
    "np.random.rand(5)\n",
    "np.random.rand(2, 5)"
   ]
  },
  {
   "cell_type": "code",
   "execution_count": 186,
   "metadata": {},
   "outputs": [
    {
     "data": {
      "text/plain": [
       "4"
      ]
     },
     "execution_count": 186,
     "metadata": {},
     "output_type": "execute_result"
    },
    {
     "data": {
      "text/plain": [
       "12"
      ]
     },
     "execution_count": 186,
     "metadata": {},
     "output_type": "execute_result"
    },
    {
     "data": {
      "text/plain": [
       "array([[11, 18],\n",
       "       [13, 17]])"
      ]
     },
     "execution_count": 186,
     "metadata": {},
     "output_type": "execute_result"
    }
   ],
   "source": [
    "# Return random integers from low (inclusive) to high (exclusive).\n",
    "\n",
    "# TypeError: randint() takes at least 1 positional argument (0 given)\n",
    "# np.random.randint()\n",
    "\n",
    "np.random.randint(5)\n",
    "np.random.randint(10, 20)\n",
    "np.random.randint(10, 20, size=(2, 2))"
   ]
  },
  {
   "cell_type": "code",
   "execution_count": 184,
   "metadata": {},
   "outputs": [
    {
     "data": {
      "text/plain": [
       "-0.7362032919259335"
      ]
     },
     "execution_count": 184,
     "metadata": {},
     "output_type": "execute_result"
    },
    {
     "data": {
      "text/plain": [
       "array([-0.28863734, -0.52594541,  2.49380833,  0.56920386, -0.7791087 ])"
      ]
     },
     "execution_count": 184,
     "metadata": {},
     "output_type": "execute_result"
    },
    {
     "data": {
      "text/plain": [
       "array([[-0.1817415 ,  1.41369028, -1.28521944, -0.87832458, -1.14765644],\n",
       "       [-2.3185687 ,  0.17123927,  0.81572847,  0.1160143 ,  0.00413228]])"
      ]
     },
     "execution_count": 184,
     "metadata": {},
     "output_type": "execute_result"
    }
   ],
   "source": [
    "# Return a sample (or samples) from the \"standard normal\" distribution.\n",
    "\n",
    "np.random.randn()\n",
    "np.random.randn(5)\n",
    "np.random.randn(2, 5)"
   ]
  },
  {
   "cell_type": "code",
   "execution_count": 185,
   "metadata": {},
   "outputs": [],
   "source": [
    "# np.info(np.random)"
   ]
  },
  {
   "cell_type": "code",
   "execution_count": 348,
   "metadata": {},
   "outputs": [
    {
     "data": {
      "text/plain": [
       "array([8, 7])"
      ]
     },
     "execution_count": 348,
     "metadata": {},
     "output_type": "execute_result"
    },
    {
     "data": {
      "text/plain": [
       "array([[8, 8, 6, 2, 8],\n",
       "       [7, 2, 1, 5, 4],\n",
       "       [4, 5, 7, 3, 6]])"
      ]
     },
     "execution_count": 348,
     "metadata": {},
     "output_type": "execute_result"
    },
    {
     "data": {
      "text/plain": [
       "array([8, 8, 6, 2, 8, 7, 2, 1, 5, 4, 4, 5, 7, 3, 6])"
      ]
     },
     "execution_count": 348,
     "metadata": {},
     "output_type": "execute_result"
    }
   ],
   "source": [
    "np.random.seed(2)\n",
    "\n",
    "a = np.array([\n",
    "    np.random.randint(10, size=5),\n",
    "    np.random.randint(10, size=5),\n",
    "    np.random.randint(10, size=5),\n",
    "])\n",
    "\n",
    "# a[0::2, ::2]\n",
    "\n",
    "a[[0, 1], [0]]\n",
    "\n",
    "a\n",
    "# a[::-1, ::-1]\n",
    "\n",
    "a.ravel()"
   ]
  },
  {
   "cell_type": "code",
   "execution_count": 271,
   "metadata": {},
   "outputs": [
    {
     "data": {
      "text/plain": [
       "[3, 2, 1]"
      ]
     },
     "execution_count": 271,
     "metadata": {},
     "output_type": "execute_result"
    }
   ],
   "source": [
    "a = [1, 2, 3]\n",
    "\n",
    "a[::-1]"
   ]
  },
  {
   "cell_type": "code",
   "execution_count": 273,
   "metadata": {},
   "outputs": [
    {
     "data": {
      "text/plain": [
       "array([3, 2, 1])"
      ]
     },
     "execution_count": 273,
     "metadata": {},
     "output_type": "execute_result"
    }
   ],
   "source": [
    "a = np.array([1, 2, 3])\n",
    "\n",
    "a[::-1]"
   ]
  },
  {
   "cell_type": "code",
   "execution_count": 309,
   "metadata": {},
   "outputs": [
    {
     "data": {
      "text/plain": [
       "array([5, 8, 9, 5, 0])"
      ]
     },
     "execution_count": 309,
     "metadata": {},
     "output_type": "execute_result"
    },
    {
     "data": {
      "text/plain": [
       "array([False,  True,  True, False, False])"
      ]
     },
     "execution_count": 309,
     "metadata": {},
     "output_type": "execute_result"
    },
    {
     "data": {
      "text/plain": [
       "array([8, 9])"
      ]
     },
     "execution_count": 309,
     "metadata": {},
     "output_type": "execute_result"
    }
   ],
   "source": [
    "np.random.seed(1)\n",
    "\n",
    "a = np.random.randint(10, size=5)\n",
    "\n",
    "a\n",
    "a > 5\n",
    "a[a > 5]"
   ]
  },
  {
   "cell_type": "code",
   "execution_count": 347,
   "metadata": {},
   "outputs": [
    {
     "data": {
      "text/plain": [
       "array([[1, 2, 3, 4],\n",
       "       [5, 6, 7, 8]])"
      ]
     },
     "execution_count": 347,
     "metadata": {},
     "output_type": "execute_result"
    },
    {
     "data": {
      "text/plain": [
       "array([1, 2, 3, 4, 5, 6, 7, 8])"
      ]
     },
     "execution_count": 347,
     "metadata": {},
     "output_type": "execute_result"
    }
   ],
   "source": [
    "a = np.array([\n",
    "    [1, 2, 3, 4], [5, 6, 7, 8]\n",
    "])\n",
    "\n",
    "a\n",
    "\n",
    "# a.T\n",
    "# a.reshape(4, 2)\n",
    "a.ravel()"
   ]
  },
  {
   "cell_type": "code",
   "execution_count": 344,
   "metadata": {},
   "outputs": [
    {
     "data": {
      "text/plain": [
       "array([1, 2, 3, 4, 5, 6])"
      ]
     },
     "execution_count": 344,
     "metadata": {},
     "output_type": "execute_result"
    },
    {
     "data": {
      "text/plain": [
       "array([[1, 2, 3],\n",
       "       [4, 5, 6]])"
      ]
     },
     "execution_count": 344,
     "metadata": {},
     "output_type": "execute_result"
    },
    {
     "data": {
      "text/plain": [
       "array([1, 2, 3, 4, 5, 6])"
      ]
     },
     "execution_count": 344,
     "metadata": {},
     "output_type": "execute_result"
    },
    {
     "data": {
      "text/plain": [
       "array([[1, 4],\n",
       "       [2, 5],\n",
       "       [3, 6]])"
      ]
     },
     "execution_count": 344,
     "metadata": {},
     "output_type": "execute_result"
    },
    {
     "data": {
      "text/plain": [
       "array([[1, 4],\n",
       "       [2, 5],\n",
       "       [3, 6]])"
      ]
     },
     "execution_count": 344,
     "metadata": {},
     "output_type": "execute_result"
    }
   ],
   "source": [
    "a = np.array([1, 2, 3])\n",
    "b = np.array([4, 5, 6])\n",
    "\n",
    "np.concatenate((a, b), axis=0)\n",
    "\n",
    "# AxisError: axis 1 is out of bounds for array of dimension 1\n",
    "# np.concatenate((a, b), axis=1)\n",
    "\n",
    "np.vstack((a, b))\n",
    "np.hstack((a, b))\n",
    "\n",
    "np.column_stack((a, b))\n",
    "np.vstack((a, b)).T"
   ]
  }
 ],
 "metadata": {
  "kernelspec": {
   "display_name": "Python 3",
   "language": "python",
   "name": "python3"
  },
  "language_info": {
   "codemirror_mode": {
    "name": "ipython",
    "version": 3
   },
   "file_extension": ".py",
   "mimetype": "text/x-python",
   "name": "python",
   "nbconvert_exporter": "python",
   "pygments_lexer": "ipython3",
   "version": "3.12.0"
  }
 },
 "nbformat": 4,
 "nbformat_minor": 2
}
